{
 "metadata": {
  "language_info": {
   "codemirror_mode": {
    "name": "ipython",
    "version": 3
   },
   "file_extension": ".py",
   "mimetype": "text/x-python",
   "name": "python",
   "nbconvert_exporter": "python",
   "pygments_lexer": "ipython3",
   "version": "3.7.9-final"
  },
  "orig_nbformat": 2,
  "kernelspec": {
   "name": "python3",
   "display_name": "Python 3",
   "language": "python"
  }
 },
 "nbformat": 4,
 "nbformat_minor": 2,
 "cells": [
  {
   "source": [
    "# Miltiades Vasiliades 2944\n",
    "## Second Set Data Mining\n",
    "### Winter 2020"
   ],
   "cell_type": "markdown",
   "metadata": {}
  },
  {
   "cell_type": "code",
   "execution_count": 2,
   "metadata": {},
   "outputs": [],
   "source": [
    "import scipy as sp\n",
    "import numpy as np \n",
    "import pandas as pd \n",
    "import scipy.sparse as sp_sparse\n",
    "import scipy.spatial.distance as sp_dist\n",
    "import json\n",
    "import csv"
   ]
  },
  {
   "cell_type": "code",
   "execution_count": 6,
   "metadata": {
    "tags": []
   },
   "outputs": [
    {
     "output_type": "stream",
     "name": "stdout",
     "text": [
      "{'qUWqjjjfpB2-4P3He5rsKw': '4.0', '6n_MDeYxU1ihB38be9TkVA': '4.0', 'jo4KmAqlZ7vxjHIP7IIkAw': '5.0', 'dsAcgF6qtZy2m6d_yWCrGQ': '4.0', 'siaRCT2-PkyeXUVKrywcTg': '4.0', 'SGP1jf6k7spXkgwBlhiUVw': '5.0', 'orrhJxM6V1USwccG7MlxmA': '4.0', 'fJ-2acaqvWOsujUTAJB-ew': '4.0', '272a60ze8sADYRR6GyJ3GA': '2.0', '47wBHgBwQ8_70sjmXow_1g': '5.0', 'Nq0UHjD_cKW9UbIJplQf_g': '5.0', '6eRSdODyj9GS0w6zlhrWkg': '4.0', '9KBd2YPnRxaNjZz23TUd6A': '5.0', 'hMmmvyRtweNBSPMbMCpnow': '4.0', 'ruR-mrEaNbFJGnM-WCbcgg': '4.0', '4EHm8WnFG-AbRpK7w6UEvg': '4.0', 'HgL6gGEGoAUBKGrT6BXU4Q': '2.0', 'iAxsnFs3qq0Qx1EJ1S9SoQ': '3.0', '0a2O150ytxrDjDzXNfRWkA': '4.0', '8I5U8OQ06nSxX2y4PPOWzQ': '4.0', 'OGVyVfc39fnp8neHRoSYhQ': '5.0', 'uUq0bMEjt202bMbRHkIcNA': '3.0', 'G2yY7OdcwX71jCkKP1-Efg': '4.0', 'd4P7boUqiA2pR59jOlzYLA': '4.0', '7uVnBIdNPy-QgETJXCsGSw': '4.0', '8XCpgcsKOe6sng7qdCMIgg': '4.0', 'XOkqRJBS6HwTVlrCACAZFw': '4.0', 'cS4yqCzFV0719CU_1b0IqQ': '4.0', 'qhagbvK-Pv4cGGghJ7gXBA': '4.0', 'bz07FlaDmxHV9ER-cF6XuA': '5.0', 'zA6gnF5aPBGoOm6uIbKt-A': '4.0', 'c35qzLN6ItDpVIoj2uQW4Q': '5.0', 'jc3p5SFyt9qrrMXt6E13ig': '4.0', '37-tFLj-xgG6_9oBIO4FJw': '3.0', 'grZEbAsZwWA3yJMwDRl0Nw': '3.0', 'vcxvQyAggPqxcHwvJXvjGg': '5.0', 'iGEvDk6hsizigmXhDKs2Vg': '5.0', 'ZZF5iqlKFBWJSGSZzWHMzA': '4.0', 'aPwWn5KBNMOEYjlYwXRORw': '4.0', '5m2JukTajxMk-qS5W4s-FA': '3.0', 'jTZYireK6pnPb6Rni0jygw': '5.0', 'oWTn2IzrprsRkPfULtjZtQ': '4.0', 'S_F4XmLUZFv9Uzbjy44_NA': '5.0', 'vh1tPEaPioD78QmoqnWXpw': '4.0', '6EVBc9kdc3Hd8KZkLVPnGA': '5.0', 'j28T6ZuP1mLHe3m36COOpQ': '3.0', '_F1_05YYlvePzomZ_NFijA': '4.0', 'VbmvagpfBfgvjOJb65BWVA': '4.0', 'U1LB3sRMGTu_h7Sf9QdNoA': '5.0', 'N93EYZy9R0sdlEvubu94ig': '5.0', 'G1Ce_QBHwT_R8Fc2-ARrwQ': '4.0', '_cjPEH9wXhKS-HQe_U3M4Q': '5.0', 'fNRr4znzjofFdtAfoBk0hw': '5.0', 'qaNt4vtVdge_S68DVjw5Jg': '5.0', 'pFAo_ockN-A6ff_SqjBfJg': '4.0', 'GjQBLRtmq8cJjekipzJ49g': '4.0', 'T4g4k2OhCTsiqcP-ZXElHQ': '4.0'}\n"
     ]
    }
   ],
   "source": [
    "ratings = {}\n",
    "with open('pruned_data.csv') as prunedcsv:\n",
    "    reader = csv.DictReader(prunedcsv,fieldnames=('user_id','business_id','value'))\n",
    "    for row in reader:\n",
    "        key = row.pop('user_id')\n",
    "        if key in ratings:\n",
    "            ratings[key][row.pop('business_id')] = row.pop('value')\n",
    "        else:\n",
    "            ratings[key] = {}\n",
    "            ratings[key][row.pop('business_id')] = row.pop('value')\n",
    "\n",
    "print(ratings['TZQSUDDcA4ek5gBd6BzcjA'])\n"
   ]
  },
  {
   "cell_type": "code",
   "execution_count": null,
   "metadata": {},
   "outputs": [],
   "source": []
  }
 ]
}