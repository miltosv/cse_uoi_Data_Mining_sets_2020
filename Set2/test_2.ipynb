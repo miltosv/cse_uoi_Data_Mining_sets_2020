{
 "metadata": {
  "language_info": {
   "codemirror_mode": {
    "name": "ipython",
    "version": 3
   },
   "file_extension": ".py",
   "mimetype": "text/x-python",
   "name": "python",
   "nbconvert_exporter": "python",
   "pygments_lexer": "ipython3",
   "version": "3.7.9-final"
  },
  "orig_nbformat": 2,
  "kernelspec": {
   "name": "python3",
   "display_name": "Python 3",
   "language": "python"
  }
 },
 "nbformat": 4,
 "nbformat_minor": 2,
 "cells": [
  {
   "cell_type": "code",
   "execution_count": 78,
   "metadata": {},
   "outputs": [],
   "source": [
    "import scipy as sp\n",
    "import numpy as np \n",
    "import pandas as pd\n",
    "import json\n",
    "import csv\n",
    "from numpy import genfromtxt\n"
   ]
  },
  {
   "cell_type": "code",
   "execution_count": 79,
   "metadata": {},
   "outputs": [],
   "source": [
    "pruned = pd.read_csv('pruned_data.csv',header=0,names=['user_id','business_id','rating'])\n",
    "#pruned"
   ]
  },
  {
   "cell_type": "code",
   "execution_count": 80,
   "metadata": {},
   "outputs": [
    {
     "output_type": "execute_result",
     "data": {
      "text/plain": [
       "                       user_id             business_id  rating\n",
       "0       TZQSUDDcA4ek5gBd6BzcjA  6n_MDeYxU1ihB38be9TkVA     4.0\n",
       "1       TZQSUDDcA4ek5gBd6BzcjA  jo4KmAqlZ7vxjHIP7IIkAw     5.0\n",
       "2       TZQSUDDcA4ek5gBd6BzcjA  dsAcgF6qtZy2m6d_yWCrGQ     4.0\n",
       "3       TZQSUDDcA4ek5gBd6BzcjA  siaRCT2-PkyeXUVKrywcTg     4.0\n",
       "4       TZQSUDDcA4ek5gBd6BzcjA  SGP1jf6k7spXkgwBlhiUVw     5.0\n",
       "...                        ...                     ...     ...\n",
       "197106  3L3CI2Om_2SE3T6hxrJKPQ  j_hB9Gt3VMJAbA2JyvyFjw     4.0\n",
       "197107  3L3CI2Om_2SE3T6hxrJKPQ  WKcVegcUjAld1S737a_QHw     4.0\n",
       "197108  3L3CI2Om_2SE3T6hxrJKPQ  1FL3oE2mqq_EFAYPd1TWUg     5.0\n",
       "197109  3L3CI2Om_2SE3T6hxrJKPQ  hlrZHM4D48XiQtXh6cRg_w     1.0\n",
       "197110  3L3CI2Om_2SE3T6hxrJKPQ  _cVCzKQGt23KKW1M07Yvkw     5.0\n",
       "\n",
       "[197111 rows x 3 columns]"
      ],
      "text/html": "<div>\n<style scoped>\n    .dataframe tbody tr th:only-of-type {\n        vertical-align: middle;\n    }\n\n    .dataframe tbody tr th {\n        vertical-align: top;\n    }\n\n    .dataframe thead th {\n        text-align: right;\n    }\n</style>\n<table border=\"1\" class=\"dataframe\">\n  <thead>\n    <tr style=\"text-align: right;\">\n      <th></th>\n      <th>user_id</th>\n      <th>business_id</th>\n      <th>rating</th>\n    </tr>\n  </thead>\n  <tbody>\n    <tr>\n      <th>0</th>\n      <td>TZQSUDDcA4ek5gBd6BzcjA</td>\n      <td>6n_MDeYxU1ihB38be9TkVA</td>\n      <td>4.0</td>\n    </tr>\n    <tr>\n      <th>1</th>\n      <td>TZQSUDDcA4ek5gBd6BzcjA</td>\n      <td>jo4KmAqlZ7vxjHIP7IIkAw</td>\n      <td>5.0</td>\n    </tr>\n    <tr>\n      <th>2</th>\n      <td>TZQSUDDcA4ek5gBd6BzcjA</td>\n      <td>dsAcgF6qtZy2m6d_yWCrGQ</td>\n      <td>4.0</td>\n    </tr>\n    <tr>\n      <th>3</th>\n      <td>TZQSUDDcA4ek5gBd6BzcjA</td>\n      <td>siaRCT2-PkyeXUVKrywcTg</td>\n      <td>4.0</td>\n    </tr>\n    <tr>\n      <th>4</th>\n      <td>TZQSUDDcA4ek5gBd6BzcjA</td>\n      <td>SGP1jf6k7spXkgwBlhiUVw</td>\n      <td>5.0</td>\n    </tr>\n    <tr>\n      <th>...</th>\n      <td>...</td>\n      <td>...</td>\n      <td>...</td>\n    </tr>\n    <tr>\n      <th>197106</th>\n      <td>3L3CI2Om_2SE3T6hxrJKPQ</td>\n      <td>j_hB9Gt3VMJAbA2JyvyFjw</td>\n      <td>4.0</td>\n    </tr>\n    <tr>\n      <th>197107</th>\n      <td>3L3CI2Om_2SE3T6hxrJKPQ</td>\n      <td>WKcVegcUjAld1S737a_QHw</td>\n      <td>4.0</td>\n    </tr>\n    <tr>\n      <th>197108</th>\n      <td>3L3CI2Om_2SE3T6hxrJKPQ</td>\n      <td>1FL3oE2mqq_EFAYPd1TWUg</td>\n      <td>5.0</td>\n    </tr>\n    <tr>\n      <th>197109</th>\n      <td>3L3CI2Om_2SE3T6hxrJKPQ</td>\n      <td>hlrZHM4D48XiQtXh6cRg_w</td>\n      <td>1.0</td>\n    </tr>\n    <tr>\n      <th>197110</th>\n      <td>3L3CI2Om_2SE3T6hxrJKPQ</td>\n      <td>_cVCzKQGt23KKW1M07Yvkw</td>\n      <td>5.0</td>\n    </tr>\n  </tbody>\n</table>\n<p>197111 rows × 3 columns</p>\n</div>"
     },
     "metadata": {},
     "execution_count": 80
    }
   ],
   "source": [
    "#pruned.set_index(['user_id','business_id'],inplace=True)\n",
    "pruned"
   ]
  },
  {
   "cell_type": "code",
   "execution_count": 81,
   "metadata": {},
   "outputs": [],
   "source": [
    "#dictionary = pruned.to_dict()"
   ]
  },
  {
   "cell_type": "code",
   "execution_count": 82,
   "metadata": {},
   "outputs": [],
   "source": [
    "#numpyArr = pruned.to_numpy()"
   ]
  },
  {
   "cell_type": "code",
   "execution_count": 83,
   "metadata": {},
   "outputs": [],
   "source": [
    "pruned = pruned.pivot(index='user_id',columns='business_id',values='rating')\n",
    "numpyArr = pruned.to_numpy()"
   ]
  },
  {
   "cell_type": "code",
   "execution_count": 84,
   "metadata": {},
   "outputs": [
    {
     "output_type": "display_data",
     "data": {
      "text/plain": "business_id             --SrzpvFLwP_YFwB_Cetow  -0NhdsDJsdarxyDPR523ZQ  \\\nuser_id                                                                  \n--BumyUHiO_7YsHurb9Hkw                     NaN                     NaN   \n--Qh8yKWAvIP4V4K8ZPfHA                     NaN                     3.0   \n--UOvCH5qEgdNQ8lzR8QYQ                     NaN                     NaN   \n--YhjyV-ce1nFLYxP49C5A                     NaN                     NaN   \n--cd_gA-9Q8gM9P2cTxEsQ                     NaN                     NaN   \n...                                        ...                     ...   \nzwDazUH1n6KLmWmJXJj7Rg                     NaN                     NaN   \nzwmThlRiY1LHfJ_7zNfGqg                     NaN                     NaN   \nzyYWUdaodH0h1jCZAvFRPg                     NaN                     NaN   \nzyg4-MFtfPWmwucVazSjfw                     NaN                     NaN   \nzzmhLxcZ4XZQyz95c_KbOA                     NaN                     NaN   \n\nbusiness_id             -2TBP3ZGu7M-FmfoNJvbrQ  -2hOglg7Lh8ZgclQJ9ba2w  \\\nuser_id                                                                  \n--BumyUHiO_7YsHurb9Hkw                     NaN                     NaN   \n--Qh8yKWAvIP4V4K8ZPfHA                     NaN                     NaN   \n--UOvCH5qEgdNQ8lzR8QYQ                     NaN                     NaN   \n--YhjyV-ce1nFLYxP49C5A                     NaN                     NaN   \n--cd_gA-9Q8gM9P2cTxEsQ                     NaN                     NaN   \n...                                        ...                     ...   \nzwDazUH1n6KLmWmJXJj7Rg                     NaN                     NaN   \nzwmThlRiY1LHfJ_7zNfGqg                     NaN                     NaN   \nzyYWUdaodH0h1jCZAvFRPg                     NaN                     NaN   \nzyg4-MFtfPWmwucVazSjfw                     NaN                     NaN   \nzzmhLxcZ4XZQyz95c_KbOA                     NaN                     NaN   \n\nbusiness_id             -6GJMc_Ln7csmvWWvY2iug  -76didnxGiiMO80BjSpYsQ  \\\nuser_id                                                                  \n--BumyUHiO_7YsHurb9Hkw                     NaN                     NaN   \n--Qh8yKWAvIP4V4K8ZPfHA                     NaN                     NaN   \n--UOvCH5qEgdNQ8lzR8QYQ                     NaN                     NaN   \n--YhjyV-ce1nFLYxP49C5A                     NaN                     NaN   \n--cd_gA-9Q8gM9P2cTxEsQ                     NaN                     NaN   \n...                                        ...                     ...   \nzwDazUH1n6KLmWmJXJj7Rg                     NaN                     NaN   \nzwmThlRiY1LHfJ_7zNfGqg                     NaN                     NaN   \nzyYWUdaodH0h1jCZAvFRPg                     NaN                     NaN   \nzyg4-MFtfPWmwucVazSjfw                     NaN                     NaN   \nzzmhLxcZ4XZQyz95c_KbOA                     NaN                     NaN   \n\nbusiness_id             -7BCZH437U5FjmNJ26llkg  -9dmhyBvepc08KPEHlEM0w  \\\nuser_id                                                                  \n--BumyUHiO_7YsHurb9Hkw                     NaN                     NaN   \n--Qh8yKWAvIP4V4K8ZPfHA                     NaN                     NaN   \n--UOvCH5qEgdNQ8lzR8QYQ                     NaN                     NaN   \n--YhjyV-ce1nFLYxP49C5A                     NaN                     NaN   \n--cd_gA-9Q8gM9P2cTxEsQ                     NaN                     NaN   \n...                                        ...                     ...   \nzwDazUH1n6KLmWmJXJj7Rg                     NaN                     NaN   \nzwmThlRiY1LHfJ_7zNfGqg                     NaN                     NaN   \nzyYWUdaodH0h1jCZAvFRPg                     NaN                     NaN   \nzyg4-MFtfPWmwucVazSjfw                     NaN                     NaN   \nzzmhLxcZ4XZQyz95c_KbOA                     NaN                     NaN   \n\nbusiness_id             -9u2uFwhlj3Yq4mG5IweoA  -AVRReI-nfsa0lKlehEojw  ...  \\\nuser_id                                                                 ...   \n--BumyUHiO_7YsHurb9Hkw                     NaN                     NaN  ...   \n--Qh8yKWAvIP4V4K8ZPfHA                     NaN                     NaN  ...   \n--UOvCH5qEgdNQ8lzR8QYQ                     NaN                     NaN  ...   \n--YhjyV-ce1nFLYxP49C5A                     NaN                     NaN  ...   \n--cd_gA-9Q8gM9P2cTxEsQ                     NaN                     NaN  ...   \n...                                        ...                     ...  ...   \nzwDazUH1n6KLmWmJXJj7Rg                     NaN                     NaN  ...   \nzwmThlRiY1LHfJ_7zNfGqg                     NaN                     NaN  ...   \nzyYWUdaodH0h1jCZAvFRPg                     NaN                     NaN  ...   \nzyg4-MFtfPWmwucVazSjfw                     NaN                     NaN  ...   \nzzmhLxcZ4XZQyz95c_KbOA                     NaN                     NaN  ...   \n\nbusiness_id             zpwl8rQBGrO1XkP1CYBtvg  zqPAwZbi5rS1dyHrKzDpMg  \\\nuser_id                                                                  \n--BumyUHiO_7YsHurb9Hkw                     NaN                     NaN   \n--Qh8yKWAvIP4V4K8ZPfHA                     NaN                     NaN   \n--UOvCH5qEgdNQ8lzR8QYQ                     NaN                     NaN   \n--YhjyV-ce1nFLYxP49C5A                     NaN                     NaN   \n--cd_gA-9Q8gM9P2cTxEsQ                     NaN                     NaN   \n...                                        ...                     ...   \nzwDazUH1n6KLmWmJXJj7Rg                     NaN                     NaN   \nzwmThlRiY1LHfJ_7zNfGqg                     NaN                     NaN   \nzyYWUdaodH0h1jCZAvFRPg                     NaN                     NaN   \nzyg4-MFtfPWmwucVazSjfw                     NaN                     NaN   \nzzmhLxcZ4XZQyz95c_KbOA                     NaN                     NaN   \n\nbusiness_id             zqjcp1VwY8WNtiwTvFL1Rw  zrYpLdnGKA_EmOhgRCy_vg  \\\nuser_id                                                                  \n--BumyUHiO_7YsHurb9Hkw                     NaN                     NaN   \n--Qh8yKWAvIP4V4K8ZPfHA                     NaN                     4.0   \n--UOvCH5qEgdNQ8lzR8QYQ                     NaN                     NaN   \n--YhjyV-ce1nFLYxP49C5A                     NaN                     NaN   \n--cd_gA-9Q8gM9P2cTxEsQ                     NaN                     NaN   \n...                                        ...                     ...   \nzwDazUH1n6KLmWmJXJj7Rg                     NaN                     NaN   \nzwmThlRiY1LHfJ_7zNfGqg                     NaN                     NaN   \nzyYWUdaodH0h1jCZAvFRPg                     NaN                     NaN   \nzyg4-MFtfPWmwucVazSjfw                     NaN                     NaN   \nzzmhLxcZ4XZQyz95c_KbOA                     NaN                     NaN   \n\nbusiness_id             zu5dqKqPjJCycS5k-92Alg  zvezLicNkf8tTqZyYhP83w  \\\nuser_id                                                                  \n--BumyUHiO_7YsHurb9Hkw                     NaN                     NaN   \n--Qh8yKWAvIP4V4K8ZPfHA                     NaN                     NaN   \n--UOvCH5qEgdNQ8lzR8QYQ                     NaN                     NaN   \n--YhjyV-ce1nFLYxP49C5A                     NaN                     NaN   \n--cd_gA-9Q8gM9P2cTxEsQ                     NaN                     NaN   \n...                                        ...                     ...   \nzwDazUH1n6KLmWmJXJj7Rg                     NaN                     NaN   \nzwmThlRiY1LHfJ_7zNfGqg                     NaN                     NaN   \nzyYWUdaodH0h1jCZAvFRPg                     NaN                     NaN   \nzyg4-MFtfPWmwucVazSjfw                     NaN                     NaN   \nzzmhLxcZ4XZQyz95c_KbOA                     NaN                     NaN   \n\nbusiness_id             zvtkeghW0Px5HY9QkJ4INw  zyw5DjrRks7a8OhmBsgCQQ  \\\nuser_id                                                                  \n--BumyUHiO_7YsHurb9Hkw                     NaN                     NaN   \n--Qh8yKWAvIP4V4K8ZPfHA                     NaN                     NaN   \n--UOvCH5qEgdNQ8lzR8QYQ                     NaN                     NaN   \n--YhjyV-ce1nFLYxP49C5A                     NaN                     NaN   \n--cd_gA-9Q8gM9P2cTxEsQ                     NaN                     NaN   \n...                                        ...                     ...   \nzwDazUH1n6KLmWmJXJj7Rg                     NaN                     NaN   \nzwmThlRiY1LHfJ_7zNfGqg                     NaN                     NaN   \nzyYWUdaodH0h1jCZAvFRPg                     NaN                     NaN   \nzyg4-MFtfPWmwucVazSjfw                     NaN                     NaN   \nzzmhLxcZ4XZQyz95c_KbOA                     NaN                     NaN   \n\nbusiness_id             zz3CqZhNx2rQ_Yp6zHze-A  zzUj3ej4vm_DtvRxNvWDEw  \nuser_id                                                                 \n--BumyUHiO_7YsHurb9Hkw                     NaN                     NaN  \n--Qh8yKWAvIP4V4K8ZPfHA                     NaN                     NaN  \n--UOvCH5qEgdNQ8lzR8QYQ                     NaN                     NaN  \n--YhjyV-ce1nFLYxP49C5A                     NaN                     NaN  \n--cd_gA-9Q8gM9P2cTxEsQ                     NaN                     NaN  \n...                                        ...                     ...  \nzwDazUH1n6KLmWmJXJj7Rg                     NaN                     NaN  \nzwmThlRiY1LHfJ_7zNfGqg                     NaN                     NaN  \nzyYWUdaodH0h1jCZAvFRPg                     NaN                     NaN  \nzyg4-MFtfPWmwucVazSjfw                     NaN                     NaN  \nzzmhLxcZ4XZQyz95c_KbOA                     NaN                     NaN  \n\n[4794 rows x 4092 columns]",
      "text/html": "<div>\n<style scoped>\n    .dataframe tbody tr th:only-of-type {\n        vertical-align: middle;\n    }\n\n    .dataframe tbody tr th {\n        vertical-align: top;\n    }\n\n    .dataframe thead th {\n        text-align: right;\n    }\n</style>\n<table border=\"1\" class=\"dataframe\">\n  <thead>\n    <tr style=\"text-align: right;\">\n      <th>business_id</th>\n      <th>--SrzpvFLwP_YFwB_Cetow</th>\n      <th>-0NhdsDJsdarxyDPR523ZQ</th>\n      <th>-2TBP3ZGu7M-FmfoNJvbrQ</th>\n      <th>-2hOglg7Lh8ZgclQJ9ba2w</th>\n      <th>-6GJMc_Ln7csmvWWvY2iug</th>\n      <th>-76didnxGiiMO80BjSpYsQ</th>\n      <th>-7BCZH437U5FjmNJ26llkg</th>\n      <th>-9dmhyBvepc08KPEHlEM0w</th>\n      <th>-9u2uFwhlj3Yq4mG5IweoA</th>\n      <th>-AVRReI-nfsa0lKlehEojw</th>\n      <th>...</th>\n      <th>zpwl8rQBGrO1XkP1CYBtvg</th>\n      <th>zqPAwZbi5rS1dyHrKzDpMg</th>\n      <th>zqjcp1VwY8WNtiwTvFL1Rw</th>\n      <th>zrYpLdnGKA_EmOhgRCy_vg</th>\n      <th>zu5dqKqPjJCycS5k-92Alg</th>\n      <th>zvezLicNkf8tTqZyYhP83w</th>\n      <th>zvtkeghW0Px5HY9QkJ4INw</th>\n      <th>zyw5DjrRks7a8OhmBsgCQQ</th>\n      <th>zz3CqZhNx2rQ_Yp6zHze-A</th>\n      <th>zzUj3ej4vm_DtvRxNvWDEw</th>\n    </tr>\n    <tr>\n      <th>user_id</th>\n      <th></th>\n      <th></th>\n      <th></th>\n      <th></th>\n      <th></th>\n      <th></th>\n      <th></th>\n      <th></th>\n      <th></th>\n      <th></th>\n      <th></th>\n      <th></th>\n      <th></th>\n      <th></th>\n      <th></th>\n      <th></th>\n      <th></th>\n      <th></th>\n      <th></th>\n      <th></th>\n      <th></th>\n    </tr>\n  </thead>\n  <tbody>\n    <tr>\n      <th>--BumyUHiO_7YsHurb9Hkw</th>\n      <td>NaN</td>\n      <td>NaN</td>\n      <td>NaN</td>\n      <td>NaN</td>\n      <td>NaN</td>\n      <td>NaN</td>\n      <td>NaN</td>\n      <td>NaN</td>\n      <td>NaN</td>\n      <td>NaN</td>\n      <td>...</td>\n      <td>NaN</td>\n      <td>NaN</td>\n      <td>NaN</td>\n      <td>NaN</td>\n      <td>NaN</td>\n      <td>NaN</td>\n      <td>NaN</td>\n      <td>NaN</td>\n      <td>NaN</td>\n      <td>NaN</td>\n    </tr>\n    <tr>\n      <th>--Qh8yKWAvIP4V4K8ZPfHA</th>\n      <td>NaN</td>\n      <td>3.0</td>\n      <td>NaN</td>\n      <td>NaN</td>\n      <td>NaN</td>\n      <td>NaN</td>\n      <td>NaN</td>\n      <td>NaN</td>\n      <td>NaN</td>\n      <td>NaN</td>\n      <td>...</td>\n      <td>NaN</td>\n      <td>NaN</td>\n      <td>NaN</td>\n      <td>4.0</td>\n      <td>NaN</td>\n      <td>NaN</td>\n      <td>NaN</td>\n      <td>NaN</td>\n      <td>NaN</td>\n      <td>NaN</td>\n    </tr>\n    <tr>\n      <th>--UOvCH5qEgdNQ8lzR8QYQ</th>\n      <td>NaN</td>\n      <td>NaN</td>\n      <td>NaN</td>\n      <td>NaN</td>\n      <td>NaN</td>\n      <td>NaN</td>\n      <td>NaN</td>\n      <td>NaN</td>\n      <td>NaN</td>\n      <td>NaN</td>\n      <td>...</td>\n      <td>NaN</td>\n      <td>NaN</td>\n      <td>NaN</td>\n      <td>NaN</td>\n      <td>NaN</td>\n      <td>NaN</td>\n      <td>NaN</td>\n      <td>NaN</td>\n      <td>NaN</td>\n      <td>NaN</td>\n    </tr>\n    <tr>\n      <th>--YhjyV-ce1nFLYxP49C5A</th>\n      <td>NaN</td>\n      <td>NaN</td>\n      <td>NaN</td>\n      <td>NaN</td>\n      <td>NaN</td>\n      <td>NaN</td>\n      <td>NaN</td>\n      <td>NaN</td>\n      <td>NaN</td>\n      <td>NaN</td>\n      <td>...</td>\n      <td>NaN</td>\n      <td>NaN</td>\n      <td>NaN</td>\n      <td>NaN</td>\n      <td>NaN</td>\n      <td>NaN</td>\n      <td>NaN</td>\n      <td>NaN</td>\n      <td>NaN</td>\n      <td>NaN</td>\n    </tr>\n    <tr>\n      <th>--cd_gA-9Q8gM9P2cTxEsQ</th>\n      <td>NaN</td>\n      <td>NaN</td>\n      <td>NaN</td>\n      <td>NaN</td>\n      <td>NaN</td>\n      <td>NaN</td>\n      <td>NaN</td>\n      <td>NaN</td>\n      <td>NaN</td>\n      <td>NaN</td>\n      <td>...</td>\n      <td>NaN</td>\n      <td>NaN</td>\n      <td>NaN</td>\n      <td>NaN</td>\n      <td>NaN</td>\n      <td>NaN</td>\n      <td>NaN</td>\n      <td>NaN</td>\n      <td>NaN</td>\n      <td>NaN</td>\n    </tr>\n    <tr>\n      <th>...</th>\n      <td>...</td>\n      <td>...</td>\n      <td>...</td>\n      <td>...</td>\n      <td>...</td>\n      <td>...</td>\n      <td>...</td>\n      <td>...</td>\n      <td>...</td>\n      <td>...</td>\n      <td>...</td>\n      <td>...</td>\n      <td>...</td>\n      <td>...</td>\n      <td>...</td>\n      <td>...</td>\n      <td>...</td>\n      <td>...</td>\n      <td>...</td>\n      <td>...</td>\n      <td>...</td>\n    </tr>\n    <tr>\n      <th>zwDazUH1n6KLmWmJXJj7Rg</th>\n      <td>NaN</td>\n      <td>NaN</td>\n      <td>NaN</td>\n      <td>NaN</td>\n      <td>NaN</td>\n      <td>NaN</td>\n      <td>NaN</td>\n      <td>NaN</td>\n      <td>NaN</td>\n      <td>NaN</td>\n      <td>...</td>\n      <td>NaN</td>\n      <td>NaN</td>\n      <td>NaN</td>\n      <td>NaN</td>\n      <td>NaN</td>\n      <td>NaN</td>\n      <td>NaN</td>\n      <td>NaN</td>\n      <td>NaN</td>\n      <td>NaN</td>\n    </tr>\n    <tr>\n      <th>zwmThlRiY1LHfJ_7zNfGqg</th>\n      <td>NaN</td>\n      <td>NaN</td>\n      <td>NaN</td>\n      <td>NaN</td>\n      <td>NaN</td>\n      <td>NaN</td>\n      <td>NaN</td>\n      <td>NaN</td>\n      <td>NaN</td>\n      <td>NaN</td>\n      <td>...</td>\n      <td>NaN</td>\n      <td>NaN</td>\n      <td>NaN</td>\n      <td>NaN</td>\n      <td>NaN</td>\n      <td>NaN</td>\n      <td>NaN</td>\n      <td>NaN</td>\n      <td>NaN</td>\n      <td>NaN</td>\n    </tr>\n    <tr>\n      <th>zyYWUdaodH0h1jCZAvFRPg</th>\n      <td>NaN</td>\n      <td>NaN</td>\n      <td>NaN</td>\n      <td>NaN</td>\n      <td>NaN</td>\n      <td>NaN</td>\n      <td>NaN</td>\n      <td>NaN</td>\n      <td>NaN</td>\n      <td>NaN</td>\n      <td>...</td>\n      <td>NaN</td>\n      <td>NaN</td>\n      <td>NaN</td>\n      <td>NaN</td>\n      <td>NaN</td>\n      <td>NaN</td>\n      <td>NaN</td>\n      <td>NaN</td>\n      <td>NaN</td>\n      <td>NaN</td>\n    </tr>\n    <tr>\n      <th>zyg4-MFtfPWmwucVazSjfw</th>\n      <td>NaN</td>\n      <td>NaN</td>\n      <td>NaN</td>\n      <td>NaN</td>\n      <td>NaN</td>\n      <td>NaN</td>\n      <td>NaN</td>\n      <td>NaN</td>\n      <td>NaN</td>\n      <td>NaN</td>\n      <td>...</td>\n      <td>NaN</td>\n      <td>NaN</td>\n      <td>NaN</td>\n      <td>NaN</td>\n      <td>NaN</td>\n      <td>NaN</td>\n      <td>NaN</td>\n      <td>NaN</td>\n      <td>NaN</td>\n      <td>NaN</td>\n    </tr>\n    <tr>\n      <th>zzmhLxcZ4XZQyz95c_KbOA</th>\n      <td>NaN</td>\n      <td>NaN</td>\n      <td>NaN</td>\n      <td>NaN</td>\n      <td>NaN</td>\n      <td>NaN</td>\n      <td>NaN</td>\n      <td>NaN</td>\n      <td>NaN</td>\n      <td>NaN</td>\n      <td>...</td>\n      <td>NaN</td>\n      <td>NaN</td>\n      <td>NaN</td>\n      <td>NaN</td>\n      <td>NaN</td>\n      <td>NaN</td>\n      <td>NaN</td>\n      <td>NaN</td>\n      <td>NaN</td>\n      <td>NaN</td>\n    </tr>\n  </tbody>\n</table>\n<p>4794 rows × 4092 columns</p>\n</div>"
     },
     "metadata": {}
    }
   ],
   "source": [
    "display(pruned)\n",
    "numpyArr\n",
    "np.nan_to_num(numpyArr, copy=False, nan=0.0, posinf=None, neginf=None)\n",
    "pruned.iloc[0:0]\n",
    "del pruned"
   ]
  },
  {
   "cell_type": "code",
   "execution_count": 85,
   "metadata": {},
   "outputs": [],
   "source": [
    "from scipy import sparse\n",
    "\n",
    "sparseRatings = sparse.csr_matrix(numpyArr)"
   ]
  },
  {
   "cell_type": "code",
   "execution_count": 86,
   "metadata": {},
   "outputs": [],
   "source": [
    "#print(numpyArr)"
   ]
  },
  {
   "cell_type": "code",
   "execution_count": 87,
   "metadata": {
    "tags": []
   },
   "outputs": [
    {
     "output_type": "stream",
     "name": "stdout",
     "text": [
      "  (0, 45)\t1.0\n  (0, 155)\t5.0\n  (0, 326)\t3.0\n  (0, 360)\t4.0\n  (0, 401)\t4.0\n  (0, 460)\t4.0\n  (0, 463)\t5.0\n  (0, 789)\t4.0\n  (0, 906)\t4.0\n  (0, 944)\t4.0\n  (0, 1093)\t3.0\n  (0, 1118)\t4.0\n  (0, 1131)\t4.0\n  (0, 1244)\t3.0\n  (0, 1251)\t3.0\n  (0, 1525)\t4.0\n  (0, 1560)\t4.0\n  (0, 1738)\t3.0\n  (0, 1797)\t4.0\n  (0, 2057)\t4.0\n  (0, 2231)\t5.0\n  (0, 2364)\t2.0\n  (0, 2383)\t5.0\n  (0, 2665)\t4.0\n  (0, 2807)\t4.0\n  :\t:\n  (4792, 3980)\t5.0\n  (4792, 4015)\t2.0\n  (4793, 367)\t5.0\n  (4793, 395)\t5.0\n  (4793, 646)\t3.0\n  (4793, 705)\t5.0\n  (4793, 870)\t4.0\n  (4793, 1077)\t5.0\n  (4793, 1082)\t4.0\n  (4793, 1754)\t5.0\n  (4793, 2119)\t5.0\n  (4793, 2190)\t3.0\n  (4793, 2322)\t5.0\n  (4793, 2523)\t5.0\n  (4793, 2574)\t5.0\n  (4793, 2595)\t4.0\n  (4793, 2830)\t4.0\n  (4793, 3168)\t2.0\n  (4793, 3267)\t5.0\n  (4793, 3280)\t4.0\n  (4793, 3315)\t5.0\n  (4793, 3642)\t4.0\n  (4793, 3807)\t5.0\n  (4793, 4018)\t4.0\n  (4793, 4041)\t4.0\n"
     ]
    }
   ],
   "source": [
    "print(sparseRatings)\n"
   ]
  },
  {
   "cell_type": "code",
   "execution_count": 88,
   "metadata": {},
   "outputs": [
    {
     "output_type": "stream",
     "name": "stdout",
     "text": [
      "(array([   0,    0,    0, ..., 4793, 4793, 4793], dtype=int32), array([  45,  155,  326, ..., 3807, 4018, 4041], dtype=int32))\n"
     ]
    }
   ],
   "source": [
    "fivePercent = round(sparseRatings.shape[0]*0.05)\n",
    "indices =  sparseRatings.nonzero()\n",
    "print(indices)\n",
    "#sample = sparseRatings[np.random.choice(sparseRatings.shape[0], fivePercent, replace=False)]\n",
    "#print(sample)"
   ]
  },
  {
   "cell_type": "code",
   "execution_count": 89,
   "metadata": {},
   "outputs": [
    {
     "output_type": "stream",
     "name": "stdout",
     "text": [
      "(array([0, 0, 0, 0, 0, 0, 0, 0, 0, 0, 0, 0, 0, 0, 0, 0, 0, 0, 0, 0, 0, 0,\n       0, 0, 0, 0, 0, 0, 0, 0, 0, 0, 0, 0, 0, 0, 0, 0, 0, 0, 0, 0]), array([  45,  155,  326,  360,  401,  460,  463,  789,  906,  944, 1093,\n       1118, 1131, 1244, 1251, 1525, 1560, 1738, 1797, 2057, 2231, 2364,\n       2383, 2665, 2807, 2910, 2967, 2976, 2987, 3110, 3131, 3231, 3346,\n       3353, 3412, 3454, 3542, 3579, 3596, 3810, 3812, 3953]))\n"
     ]
    }
   ],
   "source": [
    "print(sparseRatings[0].nonzero())"
   ]
  },
  {
   "cell_type": "code",
   "execution_count": 90,
   "metadata": {},
   "outputs": [
    {
     "output_type": "stream",
     "name": "stdout",
     "text": [
      "[1763, 3105, 4149, 711, 1912, 1264, 1948, 967, 2327, 3233, 1009, 1650, 4354, 1287, 4485, 4313, 4074, 2350, 4426, 201, 2269, 2378, 3776, 198, 1074, 2424, 1072, 2327, 1046, 2873, 2896, 982, 1853, 3378, 2280, 3108, 3426, 3981, 4510, 4040, 1992, 4488, 2202, 3746, 2732, 2350, 554, 4300, 1, 4361, 2773, 1566, 3873, 3901, 1656, 2575, 1712, 2082, 2404, 1231, 4465, 4441, 4661, 2068, 281, 232, 1285, 1824, 1920, 4068, 107, 208, 2506, 3970, 2254, 3189, 3192, 1646, 4765, 1316, 4668, 1196, 1363, 4472, 930, 3233, 4789, 4342, 3640, 2169, 501, 3927, 2037, 227, 4300, 408, 1944, 161, 3787, 4, 2460, 1981, 4379, 4428, 4509, 1206, 4211, 1802, 2772, 1886, 406, 2804, 4630, 1726, 3868, 1357, 2506, 2485, 2284, 2242, 393, 2688, 2141, 4777, 4398, 4342, 4213, 1596, 2186, 3378, 202, 3132, 1075, 3402, 2906, 66, 2104, 1859, 203, 4791, 1726, 3938, 2975, 1420, 3099, 1741, 1359, 3241, 3834, 2904, 1471, 3108, 3883, 4073, 4493, 263, 2982, 3842, 4430, 1766, 741, 1106, 4580, 2499, 2830, 3755, 2358, 1536, 3593, 58, 4147, 3487, 2015, 3056, 4715, 1679, 1231, 2086, 4525, 2075, 3179, 1552, 2388, 2431, 1472, 2914, 2878, 3481, 4236, 2979, 2280, 254, 4564, 1996, 2845, 1074, 3893, 3030, 3812, 3821, 1350, 344, 1486, 3840, 242, 2455, 2682, 2491, 1825, 3452, 4525, 4187, 3408, 2711, 4207, 607, 4723, 4777, 1780, 1898, 1939, 930, 2946, 3287, 222, 335, 4468, 1351, 526, 2269, 635, 2760, 1575, 1047, 1996, 3280, 1604, 1319, 944, 950]\n"
     ]
    }
   ],
   "source": [
    "import random\n",
    "sampling = random.choices(indices[0], k=fivePercent)\n",
    "print(sampling)"
   ]
  },
  {
   "cell_type": "code",
   "execution_count": 91,
   "metadata": {},
   "outputs": [
    {
     "output_type": "execute_result",
     "data": {
      "text/plain": [
       "array([ 207,  511,  564,  840,  851,  989, 1284, 1416, 1466, 1723, 1796,\n",
       "       1812, 2001, 2166, 2298, 2326, 2388, 2432, 2563, 3262, 3322, 3490,\n",
       "       3523, 3542, 3982])"
      ]
     },
     "metadata": {},
     "execution_count": 91
    }
   ],
   "source": [
    "sparseRatings[1299].nonzero()[1]\n"
   ]
  },
  {
   "cell_type": "code",
   "execution_count": 92,
   "metadata": {
    "tags": []
   },
   "outputs": [
    {
     "output_type": "stream",
     "name": "stdout",
     "text": [
      "[[1763 1822    3]\n [3105 2696    3]\n [4149 4009    1]\n [ 711 1788    4]\n [1912  297    3]\n [1264 3730    4]\n [1948 3477    4]\n [ 967 2248    4]\n [2327  989    3]\n [3233 2670    5]\n [1009 2941    2]\n [1650  238    3]\n [4354 1770    5]\n [1287 2949    4]\n [4485 2938    5]\n [4313 2092    4]\n [4074 1288    5]\n [2350 1880    4]\n [4426 2519    3]\n [ 201 1796    4]\n [2269 3853    3]\n [2378 2202    2]\n [3776 3776    5]\n [ 198 1375    4]\n [1074  317    4]\n [2424 3887    4]\n [1072 1547    2]\n [2327 2723    2]\n [1046  684    4]\n [2873  588    4]\n [2896 1825    3]\n [ 982 3095    5]\n [1853 3457    5]\n [3378 2451    4]\n [2280 1277    5]\n [3108 1919    4]\n [3426 1805    3]\n [3981 1389    3]\n [4510 1238    4]\n [4040 3650    2]\n [1992 2613    4]\n [4488 1381    5]\n [2202 1825    2]\n [3746 1820    5]\n [2732 1885    3]\n [2350  423    2]\n [ 554 1840    2]\n [4300   36    2]\n [   1  933    2]\n [4361 3209    4]\n [2773 1881    5]\n [1566 1956    1]\n [3873 3419    5]\n [3901 1097    4]\n [1656 3138    2]\n [2575 2263    5]\n [1712 3852    2]\n [2082 2890    4]\n [2404 2281    5]\n [1231 2204    1]\n [4465 3049    3]\n [4441 1829    1]\n [4661 2011    5]\n [2068 3218    3]\n [ 281  317    2]\n [ 232 1237    4]\n [1285 3547    5]\n [1824 3665    5]\n [1920 3007    3]\n [4068 2424    4]\n [ 107   26    4]\n [ 208 3431    5]\n [2506 4028    5]\n [3970  229    4]\n [2254 2813    4]\n [3189 2705    3]\n [3192 3982    4]\n [1646 4026    3]\n [4765 1887    3]\n [1316 2049    2]\n [4668 2120    4]\n [1196 3009    5]\n [1363 2432    5]\n [4472 2212    4]\n [ 930 3398    2]\n [3233 1903    3]\n [4789  771    5]\n [4342 3921    1]\n [3640 1312    3]\n [2169 1283    4]\n [ 501 1717    5]\n [3927  213    4]\n [2037 1536    4]\n [ 227 2750    3]\n [4300 1389    3]\n [ 408  311    5]\n [1944 3911    5]\n [ 161 3287    3]\n [3787  916    5]\n [   4  433    4]\n [2460 3486    3]\n [1981 2546    3]\n [4379 4067    4]\n [4428 2939    4]\n [4509  992    5]\n [1206   11    5]\n [4211 2642    3]\n [1802 2449    4]\n [2772 3354    4]\n [1886 2852    4]\n [ 406  907    4]\n [2804 2356    1]\n [4630 2916    4]\n [1726  791    5]\n [3868 1470    2]\n [1357 3056    5]\n [2506 3854    5]\n [2485 2205    2]\n [2284 1739    4]\n [2242  517    4]\n [ 393 3375    5]\n [2688 2519    3]\n [2141 2198    4]\n [4777  673    3]\n [4398   42    4]\n [4342 4018    2]\n [4213  927    3]\n [1596 2999    3]\n [2186 3950    5]\n [3378 2737    2]\n [ 202 3445    1]\n [3132 1104    3]\n [1075  276    4]\n [3402 1262    3]\n [2906 1388    4]\n [  66  171    2]\n [2104 2011    3]\n [1859  988    4]\n [ 203  830    4]\n [4791 3707    3]\n [1726 2134    5]\n [3938   42    5]\n [2975 4035    4]\n [1420   96    4]\n [3099  761    4]\n [1741  811    2]\n [1359 2424    4]\n [3241 1456    5]\n [3834 2781    4]\n [2904 1961    4]\n [1471  411    2]\n [3108  628    5]\n [3883  365    5]\n [4073 2946    4]\n [4493 1054    3]\n [ 263 3692    4]\n [2982 3092    2]\n [3842 1861    5]\n [4430 4031    4]\n [1766  732    3]\n [ 741 3088    4]\n [1106 1724    5]\n [4580  491    2]\n [2499 2618    3]\n [2830 3430    4]\n [3755  150    5]\n [2358  687    5]\n [1536 1623    4]\n [3593  817    4]\n [  58 1191    3]\n [4147 2177    4]\n [3487    8    3]\n [2015 1172    5]\n [3056 3773    5]\n [4715  731    3]\n [1679 2302    2]\n [1231 4073    5]\n [2086 1801    3]\n [4525 3973    3]\n [2075 3932    3]\n [3179 1726    3]\n [1552  675    3]\n [2388 1376    3]\n [2431  154    4]\n [1472 2118    4]\n [2914 1827    5]\n [2878  911    5]\n [3481 1698    1]\n [4236  588    3]\n [2979 3393    5]\n [2280 1420    4]\n [ 254 2411    5]\n [4564 3839    4]\n [1996 3115    4]\n [2845 3150    4]\n [1074 3019    4]\n [3893 2053    3]\n [3030 3208    4]\n [3812 3793    4]\n [3821 1842    4]\n [1350 1367    5]\n [ 344 3173    5]\n [1486 2432    4]\n [3840  207    2]\n [ 242 1093    5]\n [2455 3732    2]\n [2682   77    4]\n [2491  989    3]\n [1825 1844    4]\n [3452  381    4]\n [4525 2044    4]\n [4187 2766    5]\n [3408  588    4]\n [2711  736    5]\n [4207  759    3]\n [ 607 1731    4]\n [4723  773    4]\n [4777 2388    2]\n [1780 3771    3]\n [1898 2129    2]\n [1939 4073    5]\n [ 930 2841    3]\n [2946  907    4]\n [3287  736    4]\n [ 222  830    4]\n [ 335 3491    4]\n [4468 3580    4]\n [1351 2188    4]\n [ 526  634    1]\n [2269 1148    4]\n [ 635  129    4]\n [2760  460    4]\n [1575 3542    4]\n [1047 1025    4]\n [1996 1699    3]\n [3280  493    3]\n [1604  175    5]\n [1319 3583    5]\n [ 944 3295    3]\n [ 950 1072    4]]\n"
     ]
    }
   ],
   "source": [
    "removed = []\n",
    "for i in range(len(sampling)):\n",
    "    idx = random.choice(sparseRatings[sampling[i]].nonzero()[1])\n",
    "    #print(idx)\n",
    "    to_be_removed = [sampling[i],idx,sparseRatings[sampling[i],idx]]\n",
    "    sparseRatings[sampling[i],idx] = 0.0\n",
    "    removed.append(to_be_removed)\n",
    "removed = np.array(removed,dtype=(np.int16))\n",
    "print (removed)"
   ]
  },
  {
   "cell_type": "code",
   "execution_count": 93,
   "metadata": {},
   "outputs": [],
   "source": [
    "import sklearn.metrics as metrics\n",
    "import scipy.spatial.distance as sp_dist\n",
    "#user_distances = metrics.pairwise.pairwise_distances(sparseRatings,metric = 'cosine') \n",
    "#user_distances = sp_dist.pdist(sparseRatings, 'cosine')\n",
    "#user_distances = metrics.pairwise.cosine_similarity(sparseRatings)"
   ]
  },
  {
   "cell_type": "code",
   "execution_count": 94,
   "metadata": {},
   "outputs": [],
   "source": [
    "#print(user_distances.shape)\n",
    "#print(sparseRatings.toarray())\n",
    "#print(user_distances)\n"
   ]
  },
  {
   "cell_type": "code",
   "execution_count": 95,
   "metadata": {},
   "outputs": [],
   "source": [
    "R = sparseRatings.toarray()"
   ]
  },
  {
   "cell_type": "code",
   "execution_count": 104,
   "metadata": {
    "tags": []
   },
   "outputs": [],
   "source": [
    "def UCF(k):\n",
    "    global R\n",
    "    global sparseRatings\n",
    "    #kth = k \n",
    "    user_distances = metrics.pairwise.cosine_similarity(sparseRatings)\n",
    "    #print(user_distances.shape)\n",
    "    #print(sparseRatings.toarray())\n",
    "    #print(user_distances)\n",
    "    #kth = 5\n",
    "    estimationsUser = []\n",
    "    for pair in removed:\n",
    "        user_id = pair[0]\n",
    "        business_id = pair[1]\n",
    "        similarity_vector = user_distances[user_id]    \n",
    "        #print(user_id,similarity_vector)\n",
    "        same_businesses = R[:,business_id].nonzero()\n",
    "        #print(len(same_businesses[0]))\n",
    "        #print(same_businesses[0])\n",
    "        #print(same_businesses)\n",
    "        #print(len(similarity_vector[same_businesses]))\n",
    "        users_with_same_businesses = similarity_vector[same_businesses]\n",
    "        #print(users_with_same_businesses)\n",
    "\n",
    "        #top_k_idx = np.argpartition(users_with_same_businesses, (-kth), axis=-1, kind='introselect', order=None)[-kth:]\n",
    "        #print(top_k_idx)\n",
    "\n",
    "        top_k_idx = np.argsort(users_with_same_businesses)\n",
    "        top_k_idx=np.flip(top_k_idx)\n",
    "        if k > len(top_k_idx) : k=len(top_k_idx)\n",
    "        #print(k) \n",
    "        top_k_userIDs = same_businesses[0][top_k_idx]\n",
    "        #print(top_k_userIDs)\n",
    "        similarities = users_with_same_businesses[top_k_idx]\n",
    "        ratings = R[top_k_userIDs,business_id]\n",
    "        #print(similarities)\n",
    "        #print(ratings)\n",
    "        estimation = sum((similarities*ratings)) / sum(similarities)\n",
    "        #print(estimation)\n",
    "        estimationsUser.append([(user_id,business_id,estimation)])\n",
    "    estimationsUser=np.array(estimationsUser,dtype=([('user_id',np.int16),('business_id',np.int16),('rating','f4')]))\n",
    "    return estimationsUser"
   ]
  },
  {
   "cell_type": "code",
   "execution_count": 105,
   "metadata": {
    "tags": []
   },
   "outputs": [
    {
     "output_type": "execute_result",
     "data": {
      "text/plain": [
       "array([[(1763, 1822, 3.6510823)],\n",
       "       [(3105, 2696, 4.0989323)],\n",
       "       [(4149, 4009, 3.3988688)],\n",
       "       [( 711, 1788, 3.5699718)],\n",
       "       [(1912,  297, 3.0435529)],\n",
       "       [(1264, 3730, 4.160409 )],\n",
       "       [(1948, 3477, 4.3344545)],\n",
       "       [( 967, 2248, 3.942675 )],\n",
       "       [(2327,  989, 3.4510512)],\n",
       "       [(3233, 2670, 3.8849578)],\n",
       "       [(1009, 2941, 2.587247 )],\n",
       "       [(1650,  238, 2.5526068)],\n",
       "       [(4354, 1770, 4.065393 )],\n",
       "       [(1287, 2949, 3.8005974)],\n",
       "       [(4485, 2938, 4.393585 )],\n",
       "       [(4313, 2092, 3.570123 )],\n",
       "       [(4074, 1288, 4.1031027)],\n",
       "       [(2350, 1880, 3.8880198)],\n",
       "       [(4426, 2519, 3.395519 )],\n",
       "       [( 201, 1796, 4.2442403)],\n",
       "       [(2269, 3853, 3.7358198)],\n",
       "       [(2378, 2202, 3.3164148)],\n",
       "       [(3776, 3776, 3.4995365)],\n",
       "       [( 198, 1375, 3.8507006)],\n",
       "       [(1074,  317, 3.3041303)],\n",
       "       [(2424, 3887, 3.652834 )],\n",
       "       [(1072, 1547, 3.5492804)],\n",
       "       [(2327, 2723, 3.3618236)],\n",
       "       [(1046,  684, 3.7739098)],\n",
       "       [(2873,  588, 3.7386608)],\n",
       "       [(2896, 1825, 3.6419387)],\n",
       "       [( 982, 3095, 3.6922507)],\n",
       "       [(1853, 3457, 4.5980387)],\n",
       "       [(3378, 2451, 3.6624749)],\n",
       "       [(2280, 1277, 4.159227 )],\n",
       "       [(3108, 1919, 3.8384268)],\n",
       "       [(3426, 1805, 4.0394893)],\n",
       "       [(3981, 1389, 3.399752 )],\n",
       "       [(4510, 1238, 3.3118584)],\n",
       "       [(4040, 3650, 2.954281 )],\n",
       "       [(1992, 2613, 3.6591337)],\n",
       "       [(4488, 1381, 4.024828 )],\n",
       "       [(2202, 1825, 3.5666656)],\n",
       "       [(3746, 1820, 4.282797 )],\n",
       "       [(2732, 1885, 3.890163 )],\n",
       "       [(2350,  423, 2.4899864)],\n",
       "       [( 554, 1840, 3.6917982)],\n",
       "       [(4300,   36, 2.813027 )],\n",
       "       [(   1,  933, 3.4083827)],\n",
       "       [(4361, 3209, 4.025759 )],\n",
       "       [(2773, 1881, 4.3904195)],\n",
       "       [(1566, 1956, 3.9499972)],\n",
       "       [(3873, 3419, 4.279371 )],\n",
       "       [(3901, 1097, 3.0975356)],\n",
       "       [(1656, 3138, 3.9544005)],\n",
       "       [(2575, 2263, 3.998069 )],\n",
       "       [(1712, 3852, 2.6339772)],\n",
       "       [(2082, 2890, 3.285437 )],\n",
       "       [(2404, 2281, 3.619087 )],\n",
       "       [(1231, 2204, 4.1788626)],\n",
       "       [(4465, 3049, 3.8315802)],\n",
       "       [(4441, 1829, 3.411992 )],\n",
       "       [(4661, 2011, 3.775971 )],\n",
       "       [(2068, 3218, 3.7837548)],\n",
       "       [( 281,  317, 3.5975533)],\n",
       "       [( 232, 1237, 3.8502607)],\n",
       "       [(1285, 3547, 4.1863804)],\n",
       "       [(1824, 3665, 4.070383 )],\n",
       "       [(1920, 3007, 3.2696965)],\n",
       "       [(4068, 2424, 3.9128122)],\n",
       "       [( 107,   26, 3.9846687)],\n",
       "       [( 208, 3431, 4.0421042)],\n",
       "       [(2506, 4028, 3.7663045)],\n",
       "       [(3970,  229, 3.5070207)],\n",
       "       [(2254, 2813, 4.0328145)],\n",
       "       [(3189, 2705, 3.9156504)],\n",
       "       [(3192, 3982, 4.1971183)],\n",
       "       [(1646, 4026, 2.7554886)],\n",
       "       [(4765, 1887, 4.133801 )],\n",
       "       [(1316, 2049, 3.7272186)],\n",
       "       [(4668, 2120, 4.229164 )],\n",
       "       [(1196, 3009, 3.219143 )],\n",
       "       [(1363, 2432, 3.9053164)],\n",
       "       [(4472, 2212, 3.35179  )],\n",
       "       [( 930, 3398, 3.4950254)],\n",
       "       [(3233, 1903, 4.3267274)],\n",
       "       [(4789,  771, 3.9880726)],\n",
       "       [(4342, 3921, 2.456051 )],\n",
       "       [(3640, 1312, 3.3541152)],\n",
       "       [(2169, 1283, 4.161226 )],\n",
       "       [( 501, 1717, 3.4711275)],\n",
       "       [(3927,  213, 3.2643094)],\n",
       "       [(2037, 1536, 3.0394568)],\n",
       "       [( 227, 2750, 3.5630107)],\n",
       "       [(4300, 1389, 3.432515 )],\n",
       "       [( 408,  311, 3.6674364)],\n",
       "       [(1944, 3911, 4.215882 )],\n",
       "       [( 161, 3287, 3.4127047)],\n",
       "       [(3787,  916, 3.7928903)],\n",
       "       [(   4,  433, 4.0368   )],\n",
       "       [(2460, 3486, 3.8150833)],\n",
       "       [(1981, 2546, 4.7037835)],\n",
       "       [(4379, 4067, 3.0745041)],\n",
       "       [(4428, 2939, 4.284391 )],\n",
       "       [(4509,  992, 3.9890761)],\n",
       "       [(1206,   11, 4.1797647)],\n",
       "       [(4211, 2642, 3.3243108)],\n",
       "       [(1802, 2449, 3.0685234)],\n",
       "       [(2772, 3354, 3.9535906)],\n",
       "       [(1886, 2852, 3.7523208)],\n",
       "       [( 406,  907, 3.754982 )],\n",
       "       [(2804, 2356, 3.5801258)],\n",
       "       [(4630, 2916, 3.8552504)],\n",
       "       [(1726,  791, 4.2224765)],\n",
       "       [(3868, 1470, 3.6126306)],\n",
       "       [(1357, 3056, 3.683501 )],\n",
       "       [(2506, 3854, 3.3509963)],\n",
       "       [(2485, 2205, 4.031846 )],\n",
       "       [(2284, 1739, 3.319655 )],\n",
       "       [(2242,  517, 3.4449077)],\n",
       "       [( 393, 3375, 4.4193854)],\n",
       "       [(2688, 2519, 3.3199456)],\n",
       "       [(2141, 2198, 4.0383916)],\n",
       "       [(4777,  673, 3.7175157)],\n",
       "       [(4398,   42, 3.3974485)],\n",
       "       [(4342, 4018, 3.4119115)],\n",
       "       [(4213,  927, 3.2673144)],\n",
       "       [(1596, 2999, 3.113658 )],\n",
       "       [(2186, 3950, 3.540842 )],\n",
       "       [(3378, 2737, 3.3829734)],\n",
       "       [( 202, 3445, 3.1360774)],\n",
       "       [(3132, 1104, 3.6823573)],\n",
       "       [(1075,  276, 4.087903 )],\n",
       "       [(3402, 1262, 3.5018508)],\n",
       "       [(2906, 1388, 3.6729338)],\n",
       "       [(  66,  171, 3.3191423)],\n",
       "       [(2104, 2011, 3.79486  )],\n",
       "       [(1859,  988, 3.5134885)],\n",
       "       [( 203,  830, 3.4014504)],\n",
       "       [(4791, 3707, 3.9534786)],\n",
       "       [(1726, 2134, 4.168594 )],\n",
       "       [(3938,   42, 3.5368173)],\n",
       "       [(2975, 4035, 4.068441 )],\n",
       "       [(1420,   96, 3.2999208)],\n",
       "       [(3099,  761, 3.9730184)],\n",
       "       [(1741,  811, 3.333893 )],\n",
       "       [(1359, 2424, 3.9506629)],\n",
       "       [(3241, 1456, 3.791612 )],\n",
       "       [(3834, 2781, 3.3962817)],\n",
       "       [(2904, 1961, 4.151471 )],\n",
       "       [(1471,  411, 4.132786 )],\n",
       "       [(3108,  628, 4.2407017)],\n",
       "       [(3883,  365, 4.438423 )],\n",
       "       [(4073, 2946, 3.5842474)],\n",
       "       [(4493, 1054, 3.4368186)],\n",
       "       [( 263, 3692, 3.9090176)],\n",
       "       [(2982, 3092, 3.3738573)],\n",
       "       [(3842, 1861, 3.8455071)],\n",
       "       [(4430, 4031, 4.0971694)],\n",
       "       [(1766,  732, 2.969991 )],\n",
       "       [( 741, 3088, 4.1899676)],\n",
       "       [(1106, 1724, 3.5727956)],\n",
       "       [(4580,  491, 3.5354788)],\n",
       "       [(2499, 2618, 2.7526827)],\n",
       "       [(2830, 3430, 3.4808438)],\n",
       "       [(3755,  150, 3.5120044)],\n",
       "       [(2358,  687, 4.2204247)],\n",
       "       [(1536, 1623, 4.4139543)],\n",
       "       [(3593,  817, 3.806851 )],\n",
       "       [(  58, 1191, 4.0615544)],\n",
       "       [(4147, 2177, 3.8697429)],\n",
       "       [(3487,    8, 3.421105 )],\n",
       "       [(2015, 1172, 3.9583104)],\n",
       "       [(3056, 3773, 3.1124933)],\n",
       "       [(4715,  731, 3.9498613)],\n",
       "       [(1679, 2302, 3.3685143)],\n",
       "       [(1231, 4073, 3.038491 )],\n",
       "       [(2086, 1801, 3.3077767)],\n",
       "       [(4525, 3973, 3.9540691)],\n",
       "       [(2075, 3932, 3.5648372)],\n",
       "       [(3179, 1726, 4.003304 )],\n",
       "       [(1552,  675, 3.36156  )],\n",
       "       [(2388, 1376, 4.0675273)],\n",
       "       [(2431,  154, 3.322207 )],\n",
       "       [(1472, 2118, 4.307475 )],\n",
       "       [(2914, 1827, 4.0309167)],\n",
       "       [(2878,  911, 4.059834 )],\n",
       "       [(3481, 1698, 2.2529016)],\n",
       "       [(4236,  588, 3.7096798)],\n",
       "       [(2979, 3393, 3.4078429)],\n",
       "       [(2280, 1420, 3.5563383)],\n",
       "       [( 254, 2411, 3.860299 )],\n",
       "       [(4564, 3839, 3.2185533)],\n",
       "       [(1996, 3115, 3.455622 )],\n",
       "       [(2845, 3150, 3.6593978)],\n",
       "       [(1074, 3019, 4.0053754)],\n",
       "       [(3893, 2053, 3.7709901)],\n",
       "       [(3030, 3208, 3.0074122)],\n",
       "       [(3812, 3793, 3.526026 )],\n",
       "       [(3821, 1842, 3.6537373)],\n",
       "       [(1350, 1367, 3.46858  )],\n",
       "       [( 344, 3173, 4.1636343)],\n",
       "       [(1486, 2432, 3.9233062)],\n",
       "       [(3840,  207, 3.5318115)],\n",
       "       [( 242, 1093, 3.760767 )],\n",
       "       [(2455, 3732, 3.809464 )],\n",
       "       [(2682,   77, 3.4050367)],\n",
       "       [(2491,  989, 3.6676698)],\n",
       "       [(1825, 1844, 4.1395774)],\n",
       "       [(3452,  381, 3.557284 )],\n",
       "       [(4525, 2044, 3.796137 )],\n",
       "       [(4187, 2766, 4.0383945)],\n",
       "       [(3408,  588, 3.7564209)],\n",
       "       [(2711,  736, 3.6762805)],\n",
       "       [(4207,  759, 3.9583106)],\n",
       "       [( 607, 1731, 2.984412 )],\n",
       "       [(4723,  773, 4.3698554)],\n",
       "       [(4777, 2388, 3.8035767)],\n",
       "       [(1780, 3771, 3.3401463)],\n",
       "       [(1898, 2129, 2.283743 )],\n",
       "       [(1939, 4073, 3.0181947)],\n",
       "       [( 930, 2841, 2.8727412)],\n",
       "       [(2946,  907, 3.783959 )],\n",
       "       [(3287,  736, 3.6448007)],\n",
       "       [( 222,  830, 3.3731132)],\n",
       "       [( 335, 3491, 2.9107468)],\n",
       "       [(4468, 3580, 3.3761911)],\n",
       "       [(1351, 2188, 3.7429316)],\n",
       "       [( 526,  634, 2.3644018)],\n",
       "       [(2269, 1148, 2.7671907)],\n",
       "       [( 635,  129, 3.199453 )],\n",
       "       [(2760,  460, 3.458781 )],\n",
       "       [(1575, 3542, 4.2397585)],\n",
       "       [(1047, 1025, 3.2033615)],\n",
       "       [(1996, 1699, 4.036928 )],\n",
       "       [(3280,  493, 3.1088266)],\n",
       "       [(1604,  175, 3.9765587)],\n",
       "       [(1319, 3583, 3.5358856)],\n",
       "       [( 944, 3295, 3.7473338)],\n",
       "       [( 950, 1072, 3.4444082)]],\n",
       "      dtype=[('user_id', '<i2'), ('business_id', '<i2'), ('rating', '<f4')])"
      ]
     },
     "metadata": {},
     "execution_count": 105
    }
   ],
   "source": [
    "UCF(5)"
   ]
  },
  {
   "source": [
    "Item-Based Collaborative Filtering"
   ],
   "cell_type": "markdown",
   "metadata": {}
  },
  {
   "cell_type": "code",
   "execution_count": 201,
   "metadata": {},
   "outputs": [],
   "source": []
  },
  {
   "cell_type": "code",
   "execution_count": 202,
   "metadata": {},
   "outputs": [],
   "source": []
  },
  {
   "cell_type": "code",
   "execution_count": 102,
   "metadata": {
    "tags": []
   },
   "outputs": [],
   "source": [
    "def ICF(k):\n",
    "    global R\n",
    "    global sparseRatings\n",
    "    R_transposed = R.T \n",
    "    #print(sparseRatings.shape)\n",
    "    sparseRatings_transposed = sparseRatings.T \n",
    "    #print(sparseRatings.shape)\n",
    "    kth = k\n",
    "    business_distances = metrics.pairwise.cosine_similarity(sparseRatings_transposed)\n",
    "    estimationsItem = []\n",
    "    for pair in removed:\n",
    "        user_id = pair[0]\n",
    "        business_id = pair[1]\n",
    "        similarity_vector = business_distances[business_id]    \n",
    "       \n",
    "        same_businesses = R_transposed[:,user_id].nonzero()\n",
    "        businesses_with_same_users = similarity_vector[same_businesses]\n",
    "        #top_k_idx = np.argpartition(businesses_with_same_users, (-kth), axis=-1, kind='introselect', order=None)[-kth:]\n",
    "        top_k_idx = np.argsort(businesses_with_same_users)\n",
    "        top_k_idx=np.flip(top_k_idx)\n",
    "        if k > len(top_k_idx) : k=len(top_k_idx)\n",
    "        #print(k) \n",
    "        top_k_userIDs = same_businesses[0][top_k_idx]\n",
    "        #top_k_userIDs = same_businesses[0][top_k_idx]\n",
    "        similarities = businesses_with_same_users[top_k_idx]\n",
    "        ratings = R_transposed[business_id,top_k_userIDs]\n",
    "\n",
    "        estimation = sum((similarities*ratings)) / sum(similarities)\n",
    "\n",
    "        estimationsItem.append([(user_id,business_id,estimation)])\n",
    "    #print(estimationsItem)\n",
    "    estimationsItem=np.array(estimationsItem,dtype=[('user_id',np.int16),('business_id',np.int16),('rating','f4')])\n",
    "    return estimationsItem"
   ]
  },
  {
   "cell_type": "code",
   "execution_count": 103,
   "metadata": {},
   "outputs": [
    {
     "output_type": "execute_result",
     "data": {
      "text/plain": [
       "array([[(1763, 1822, 0.        )],\n",
       "       [(3105, 2696, 0.        )],\n",
       "       [(4149, 4009, 0.        )],\n",
       "       [( 711, 1788, 0.02348312)],\n",
       "       [(1912,  297, 0.        )],\n",
       "       [(1264, 3730, 0.79795116)],\n",
       "       [(1948, 3477, 0.        )],\n",
       "       [( 967, 2248, 0.31676382)],\n",
       "       [(2327,  989, 0.        )],\n",
       "       [(3233, 2670, 0.05134484)],\n",
       "       [(1009, 2941, 0.        )],\n",
       "       [(1650,  238, 0.        )],\n",
       "       [(4354, 1770, 0.        )],\n",
       "       [(1287, 2949, 0.        )],\n",
       "       [(4485, 2938, 0.        )],\n",
       "       [(4313, 2092, 0.        )],\n",
       "       [(4074, 1288, 0.20380367)],\n",
       "       [(2350, 1880, 0.3046417 )],\n",
       "       [(4426, 2519, 0.        )],\n",
       "       [( 201, 1796, 0.14709382)],\n",
       "       [(2269, 3853, 0.09997509)],\n",
       "       [(2378, 2202, 0.04470561)],\n",
       "       [(3776, 3776, 0.04001029)],\n",
       "       [( 198, 1375, 0.28120837)],\n",
       "       [(1074,  317, 0.        )],\n",
       "       [(2424, 3887, 0.        )],\n",
       "       [(1072, 1547, 0.13196774)],\n",
       "       [(2327, 2723, 0.        )],\n",
       "       [(1046,  684, 0.05263159)],\n",
       "       [(2873,  588, 0.06803766)],\n",
       "       [(2896, 1825, 0.        )],\n",
       "       [( 982, 3095, 0.        )],\n",
       "       [(1853, 3457, 0.24582534)],\n",
       "       [(3378, 2451, 0.02518171)],\n",
       "       [(2280, 1277, 0.18869297)],\n",
       "       [(3108, 1919, 0.2866465 )],\n",
       "       [(3426, 1805, 0.20712131)],\n",
       "       [(3981, 1389, 0.        )],\n",
       "       [(4510, 1238, 0.        )],\n",
       "       [(4040, 3650, 0.        )],\n",
       "       [(1992, 2613, 0.        )],\n",
       "       [(4488, 1381, 0.        )],\n",
       "       [(2202, 1825, 0.11136495)],\n",
       "       [(3746, 1820, 0.        )],\n",
       "       [(2732, 1885, 0.        )],\n",
       "       [(2350,  423, 0.        )],\n",
       "       [( 554, 1840, 0.        )],\n",
       "       [(4300,   36, 0.        )],\n",
       "       [(   1,  933, 0.        )],\n",
       "       [(4361, 3209, 0.18305755)],\n",
       "       [(2773, 1881, 0.03703121)],\n",
       "       [(1566, 1956, 0.03306509)],\n",
       "       [(3873, 3419, 0.08349288)],\n",
       "       [(3901, 1097, 0.02287659)],\n",
       "       [(1656, 3138, 0.09675508)],\n",
       "       [(2575, 2263, 0.06952947)],\n",
       "       [(1712, 3852, 0.        )],\n",
       "       [(2082, 2890, 0.        )],\n",
       "       [(2404, 2281, 0.32992738)],\n",
       "       [(1231, 2204, 0.        )],\n",
       "       [(4465, 3049, 0.        )],\n",
       "       [(4441, 1829, 0.38042215)],\n",
       "       [(4661, 2011, 0.        )],\n",
       "       [(2068, 3218, 0.        )],\n",
       "       [( 281,  317, 0.03119597)],\n",
       "       [( 232, 1237, 0.        )],\n",
       "       [(1285, 3547, 0.19900647)],\n",
       "       [(1824, 3665, 0.        )],\n",
       "       [(1920, 3007, 0.06080168)],\n",
       "       [(4068, 2424, 0.2827718 )],\n",
       "       [( 107,   26, 0.        )],\n",
       "       [( 208, 3431, 0.        )],\n",
       "       [(2506, 4028, 0.        )],\n",
       "       [(3970,  229, 0.        )],\n",
       "       [(2254, 2813, 0.02179193)],\n",
       "       [(3189, 2705, 0.34916332)],\n",
       "       [(3192, 3982, 0.11736503)],\n",
       "       [(1646, 4026, 0.03803674)],\n",
       "       [(4765, 1887, 0.        )],\n",
       "       [(1316, 2049, 0.        )],\n",
       "       [(4668, 2120, 0.08540639)],\n",
       "       [(1196, 3009, 0.13235861)],\n",
       "       [(1363, 2432, 0.47937238)],\n",
       "       [(4472, 2212, 0.        )],\n",
       "       [( 930, 3398, 0.        )],\n",
       "       [(3233, 1903, 0.02933116)],\n",
       "       [(4789,  771, 0.15082751)],\n",
       "       [(4342, 3921, 0.        )],\n",
       "       [(3640, 1312, 0.        )],\n",
       "       [(2169, 1283, 0.04263342)],\n",
       "       [( 501, 1717, 0.        )],\n",
       "       [(3927,  213, 0.        )],\n",
       "       [(2037, 1536, 0.32534987)],\n",
       "       [( 227, 2750, 0.2158403 )],\n",
       "       [(4300, 1389, 0.01461906)],\n",
       "       [( 408,  311, 0.        )],\n",
       "       [(1944, 3911, 0.        )],\n",
       "       [( 161, 3287, 0.09721357)],\n",
       "       [(3787,  916, 0.16207606)],\n",
       "       [(   4,  433, 0.23530148)],\n",
       "       [(2460, 3486, 0.1184017 )],\n",
       "       [(1981, 2546, 0.        )],\n",
       "       [(4379, 4067, 0.        )],\n",
       "       [(4428, 2939, 0.        )],\n",
       "       [(4509,  992, 0.        )],\n",
       "       [(1206,   11, 0.14302263)],\n",
       "       [(4211, 2642, 0.        )],\n",
       "       [(1802, 2449, 0.        )],\n",
       "       [(2772, 3354, 0.        )],\n",
       "       [(1886, 2852, 0.        )],\n",
       "       [( 406,  907, 0.3149079 )],\n",
       "       [(2804, 2356, 0.        )],\n",
       "       [(4630, 2916, 0.23353699)],\n",
       "       [(1726,  791, 0.46771204)],\n",
       "       [(3868, 1470, 0.        )],\n",
       "       [(1357, 3056, 0.07261132)],\n",
       "       [(2506, 3854, 0.        )],\n",
       "       [(2485, 2205, 0.1887871 )],\n",
       "       [(2284, 1739, 0.        )],\n",
       "       [(2242,  517, 0.        )],\n",
       "       [( 393, 3375, 0.        )],\n",
       "       [(2688, 2519, 0.        )],\n",
       "       [(2141, 2198, 0.        )],\n",
       "       [(4777,  673, 0.        )],\n",
       "       [(4398,   42, 0.44106117)],\n",
       "       [(4342, 4018, 0.        )],\n",
       "       [(4213,  927, 0.        )],\n",
       "       [(1596, 2999, 0.06183725)],\n",
       "       [(2186, 3950, 0.00158789)],\n",
       "       [(3378, 2737, 0.00357615)],\n",
       "       [( 202, 3445, 0.        )],\n",
       "       [(3132, 1104, 0.0552719 )],\n",
       "       [(1075,  276, 0.        )],\n",
       "       [(3402, 1262, 0.        )],\n",
       "       [(2906, 1388, 0.0355055 )],\n",
       "       [(  66,  171, 0.0194901 )],\n",
       "       [(2104, 2011, 0.        )],\n",
       "       [(1859,  988, 0.11488019)],\n",
       "       [( 203,  830, 0.        )],\n",
       "       [(4791, 3707, 0.        )],\n",
       "       [(1726, 2134, 0.        )],\n",
       "       [(3938,   42, 1.0316323 )],\n",
       "       [(2975, 4035, 0.        )],\n",
       "       [(1420,   96, 0.01309396)],\n",
       "       [(3099,  761, 0.96387213)],\n",
       "       [(1741,  811, 0.01189651)],\n",
       "       [(1359, 2424, 0.10209555)],\n",
       "       [(3241, 1456, 0.01424407)],\n",
       "       [(3834, 2781, 0.14014633)],\n",
       "       [(2904, 1961, 0.01898796)],\n",
       "       [(1471,  411, 0.        )],\n",
       "       [(3108,  628, 0.        )],\n",
       "       [(3883,  365, 0.        )],\n",
       "       [(4073, 2946, 0.07808283)],\n",
       "       [(4493, 1054, 0.        )],\n",
       "       [( 263, 3692, 0.        )],\n",
       "       [(2982, 3092, 0.        )],\n",
       "       [(3842, 1861, 0.25677568)],\n",
       "       [(4430, 4031, 0.        )],\n",
       "       [(1766,  732, 0.        )],\n",
       "       [( 741, 3088, 0.41468605)],\n",
       "       [(1106, 1724, 0.29226494)],\n",
       "       [(4580,  491, 0.21892193)],\n",
       "       [(2499, 2618, 0.03803126)],\n",
       "       [(2830, 3430, 0.10647696)],\n",
       "       [(3755,  150, 0.        )],\n",
       "       [(2358,  687, 0.07573964)],\n",
       "       [(1536, 1623, 0.04832135)],\n",
       "       [(3593,  817, 0.07245788)],\n",
       "       [(  58, 1191, 0.15744561)],\n",
       "       [(4147, 2177, 0.04688502)],\n",
       "       [(3487,    8, 0.        )],\n",
       "       [(2015, 1172, 0.        )],\n",
       "       [(3056, 3773, 0.        )],\n",
       "       [(4715,  731, 0.04618511)],\n",
       "       [(1679, 2302, 0.        )],\n",
       "       [(1231, 4073, 0.02310673)],\n",
       "       [(2086, 1801, 0.        )],\n",
       "       [(4525, 3973, 0.01197029)],\n",
       "       [(2075, 3932, 0.        )],\n",
       "       [(3179, 1726, 0.11424738)],\n",
       "       [(1552,  675, 0.        )],\n",
       "       [(2388, 1376, 0.06779467)],\n",
       "       [(2431,  154, 0.        )],\n",
       "       [(1472, 2118, 0.        )],\n",
       "       [(2914, 1827, 0.58402497)],\n",
       "       [(2878,  911, 0.        )],\n",
       "       [(3481, 1698, 0.        )],\n",
       "       [(4236,  588, 0.2502507 )],\n",
       "       [(2979, 3393, 0.        )],\n",
       "       [(2280, 1420, 0.08595252)],\n",
       "       [( 254, 2411, 0.        )],\n",
       "       [(4564, 3839, 0.        )],\n",
       "       [(1996, 3115, 0.0156173 )],\n",
       "       [(2845, 3150, 0.        )],\n",
       "       [(1074, 3019, 0.        )],\n",
       "       [(3893, 2053, 0.01964203)],\n",
       "       [(3030, 3208, 0.        )],\n",
       "       [(3812, 3793, 0.        )],\n",
       "       [(3821, 1842, 0.        )],\n",
       "       [(1350, 1367, 0.17761312)],\n",
       "       [( 344, 3173, 0.19204961)],\n",
       "       [(1486, 2432, 0.2886237 )],\n",
       "       [(3840,  207, 0.        )],\n",
       "       [( 242, 1093, 0.        )],\n",
       "       [(2455, 3732, 0.04982313)],\n",
       "       [(2682,   77, 0.03576852)],\n",
       "       [(2491,  989, 0.        )],\n",
       "       [(1825, 1844, 0.        )],\n",
       "       [(3452,  381, 0.        )],\n",
       "       [(4525, 2044, 0.03931135)],\n",
       "       [(4187, 2766, 0.1119529 )],\n",
       "       [(3408,  588, 0.01071511)],\n",
       "       [(2711,  736, 0.18439385)],\n",
       "       [(4207,  759, 0.30018336)],\n",
       "       [( 607, 1731, 0.22845569)],\n",
       "       [(4723,  773, 0.        )],\n",
       "       [(4777, 2388, 0.1817191 )],\n",
       "       [(1780, 3771, 0.        )],\n",
       "       [(1898, 2129, 0.        )],\n",
       "       [(1939, 4073, 0.42061153)],\n",
       "       [( 930, 2841, 0.        )],\n",
       "       [(2946,  907, 0.28681165)],\n",
       "       [(3287,  736, 0.193171  )],\n",
       "       [( 222,  830, 0.01935418)],\n",
       "       [( 335, 3491, 0.09440732)],\n",
       "       [(4468, 3580, 0.        )],\n",
       "       [(1351, 2188, 0.        )],\n",
       "       [( 526,  634, 0.05102562)],\n",
       "       [(2269, 1148, 0.0162843 )],\n",
       "       [( 635,  129, 0.07675622)],\n",
       "       [(2760,  460, 0.07838106)],\n",
       "       [(1575, 3542, 0.9658144 )],\n",
       "       [(1047, 1025, 0.        )],\n",
       "       [(1996, 1699, 0.05406759)],\n",
       "       [(3280,  493, 0.13251781)],\n",
       "       [(1604,  175, 0.        )],\n",
       "       [(1319, 3583, 0.        )],\n",
       "       [( 944, 3295, 0.05451307)],\n",
       "       [( 950, 1072, 0.        )]],\n",
       "      dtype=[('user_id', '<i2'), ('business_id', '<i2'), ('rating', '<f4')])"
      ]
     },
     "metadata": {},
     "execution_count": 103
    }
   ],
   "source": [
    "ICF(5)"
   ]
  },
  {
   "source": [
    "We observe that many of the estimates are 0 and most of the rest aren't greater than 2/5"
   ],
   "cell_type": "markdown",
   "metadata": {}
  },
  {
   "source": [
    "SVD"
   ],
   "cell_type": "markdown",
   "metadata": {}
  },
  {
   "cell_type": "code",
   "execution_count": 120,
   "metadata": {},
   "outputs": [],
   "source": [
    "import matplotlib.pyplot as plt\n",
    "\n",
    "import seaborn as sns\n",
    "%matplotlib inline\n",
    "import scipy.sparse.linalg as sp_linalg\n",
    "sns.set()"
   ]
  },
  {
   "cell_type": "code",
   "execution_count": 68,
   "metadata": {},
   "outputs": [
    {
     "output_type": "stream",
     "name": "stdout",
     "text": [
      "(4794, 4092)\n"
     ]
    }
   ],
   "source": [
    "#R = R.T \n",
    "#sparseRatings = sparseRatings.T\n",
    "sparseRatings.tocsc()\n",
    "print(sparseRatings.shape)"
   ]
  },
  {
   "cell_type": "code",
   "execution_count": 134,
   "metadata": {},
   "outputs": [],
   "source": [
    "def npSVD(k):\n",
    "    global sparseRatings\n",
    "    U, s, V = sp_linalg.svds(sparseRatings,k=k) \n",
    "    #print (U.shape, s.shape, V.shape)\n",
    "    print(s)\n",
    "    #print(U)\n",
    "    fig, (ax1, ax2) = plt.subplots(2)\n",
    "    ax1.plot(s[0:k])\n",
    "    #ax1.ylabel('singular value')\n",
    "    #ax1.xlabel('number of singular values')\n",
    "\n",
    "    ax2.plot(s[::-1])\n",
    "    #ax2.ylabel('eigenvalue value')\n",
    "    #ax2.xlabel('number of eigenvalues')\n",
    "    plt.show()\n",
    "\n",
    "    S = np.diag(s)\n",
    "    reconstruction_error = []\n",
    "    for K in range(k,0,-1):\n",
    "        data_k = U[:,K:].dot(S[K:,k:]).dot(V[K:,:])\n",
    "        error = np.linalg.norm(data_k-sparseRatings,ord='fro')\n",
    "        reconstruction_error.append(error)\n",
    "        print(error)\n",
    "    data_k = U.dot(S).dot(V)\n",
    "    print(np.linalg.norm(data_k-sparseRatings,ord='fro'))\n",
    "\n",
    "    plt.plot(reconstruction_error)\n",
    "    plt.ylabel('rank-k reconstruction error')\n",
    "    plt.xlabel('rank')\n"
   ]
  },
  {
   "cell_type": "code",
   "execution_count": 135,
   "metadata": {},
   "outputs": [
    {
     "output_type": "stream",
     "name": "stdout",
     "text": [
      "[125.5367472  126.19723729 137.61923194 186.36504527 343.07996469]\n"
     ]
    },
    {
     "output_type": "display_data",
     "data": {
      "text/plain": "<Figure size 432x288 with 2 Axes>",
      "image/svg+xml": "<?xml version=\"1.0\" encoding=\"utf-8\" standalone=\"no\"?>\r\n<!DOCTYPE svg PUBLIC \"-//W3C//DTD SVG 1.1//EN\"\r\n  \"http://www.w3.org/Graphics/SVG/1.1/DTD/svg11.dtd\">\r\n<!-- Created with matplotlib (https://matplotlib.org/) -->\r\n<svg height=\"251.399844pt\" version=\"1.1\" viewBox=\"0 0 377.051094 251.399844\" width=\"377.051094pt\" xmlns=\"http://www.w3.org/2000/svg\" xmlns:xlink=\"http://www.w3.org/1999/xlink\">\r\n <metadata>\r\n  <rdf:RDF xmlns:cc=\"http://creativecommons.org/ns#\" xmlns:dc=\"http://purl.org/dc/elements/1.1/\" xmlns:rdf=\"http://www.w3.org/1999/02/22-rdf-syntax-ns#\">\r\n   <cc:Work>\r\n    <dc:type rdf:resource=\"http://purl.org/dc/dcmitype/StillImage\"/>\r\n    <dc:date>2021-01-01T20:32:09.151258</dc:date>\r\n    <dc:format>image/svg+xml</dc:format>\r\n    <dc:creator>\r\n     <cc:Agent>\r\n      <dc:title>Matplotlib v3.3.2, https://matplotlib.org/</dc:title>\r\n     </cc:Agent>\r\n    </dc:creator>\r\n   </cc:Work>\r\n  </rdf:RDF>\r\n </metadata>\r\n <defs>\r\n  <style type=\"text/css\">*{stroke-linecap:butt;stroke-linejoin:round;}</style>\r\n </defs>\r\n <g id=\"figure_1\">\r\n  <g id=\"patch_1\">\r\n   <path d=\"M 0 251.399844 \r\nL 377.051094 251.399844 \r\nL 377.051094 0 \r\nL 0 0 \r\nz\r\n\" style=\"fill:#ffffff;\"/>\r\n  </g>\r\n  <g id=\"axes_1\">\r\n   <g id=\"patch_2\">\r\n    <path d=\"M 35.051094 106.036364 \r\nL 369.851094 106.036364 \r\nL 369.851094 7.2 \r\nL 35.051094 7.2 \r\nz\r\n\" style=\"fill:#eaeaf2;\"/>\r\n   </g>\r\n   <g id=\"matplotlib.axis_1\">\r\n    <g id=\"xtick_1\">\r\n     <g id=\"line2d_1\">\r\n      <path clip-path=\"url(#pcc8e2c098b)\" d=\"M 50.269276 106.036364 \r\nL 50.269276 7.2 \r\n\" style=\"fill:none;stroke:#ffffff;stroke-linecap:round;\"/>\r\n     </g>\r\n     <g id=\"text_1\">\r\n      <!-- 0.0 -->\r\n      <g style=\"fill:#262626;\" transform=\"translate(42.624276 123.409957)scale(0.11 -0.11)\">\r\n       <defs>\r\n        <path d=\"M 4.15625 35.296875 \r\nQ 4.15625 48 6.765625 55.734375 \r\nQ 9.375 63.484375 14.515625 67.671875 \r\nQ 19.671875 71.875 27.484375 71.875 \r\nQ 33.25 71.875 37.59375 69.546875 \r\nQ 41.9375 67.234375 44.765625 62.859375 \r\nQ 47.609375 58.5 49.21875 52.21875 \r\nQ 50.828125 45.953125 50.828125 35.296875 \r\nQ 50.828125 22.703125 48.234375 14.96875 \r\nQ 45.65625 7.234375 40.5 3 \r\nQ 35.359375 -1.21875 27.484375 -1.21875 \r\nQ 17.140625 -1.21875 11.234375 6.203125 \r\nQ 4.15625 15.140625 4.15625 35.296875 \r\nz\r\nM 13.1875 35.296875 \r\nQ 13.1875 17.671875 17.3125 11.828125 \r\nQ 21.4375 6 27.484375 6 \r\nQ 33.546875 6 37.671875 11.859375 \r\nQ 41.796875 17.71875 41.796875 35.296875 \r\nQ 41.796875 52.984375 37.671875 58.78125 \r\nQ 33.546875 64.59375 27.390625 64.59375 \r\nQ 21.34375 64.59375 17.71875 59.46875 \r\nQ 13.1875 52.9375 13.1875 35.296875 \r\nz\r\n\" id=\"ArialMT-48\"/>\r\n        <path d=\"M 9.078125 0 \r\nL 9.078125 10.015625 \r\nL 19.09375 10.015625 \r\nL 19.09375 0 \r\nz\r\n\" id=\"ArialMT-46\"/>\r\n       </defs>\r\n       <use xlink:href=\"#ArialMT-48\"/>\r\n       <use x=\"55.615234\" xlink:href=\"#ArialMT-46\"/>\r\n       <use x=\"83.398438\" xlink:href=\"#ArialMT-48\"/>\r\n      </g>\r\n     </g>\r\n    </g>\r\n    <g id=\"xtick_2\">\r\n     <g id=\"line2d_2\">\r\n      <path clip-path=\"url(#pcc8e2c098b)\" d=\"M 88.31473 106.036364 \r\nL 88.31473 7.2 \r\n\" style=\"fill:none;stroke:#ffffff;stroke-linecap:round;\"/>\r\n     </g>\r\n     <g id=\"text_2\">\r\n      <!-- 0.5 -->\r\n      <g style=\"fill:#262626;\" transform=\"translate(80.66973 123.409957)scale(0.11 -0.11)\">\r\n       <defs>\r\n        <path d=\"M 4.15625 18.75 \r\nL 13.375 19.53125 \r\nQ 14.40625 12.796875 18.140625 9.390625 \r\nQ 21.875 6 27.15625 6 \r\nQ 33.5 6 37.890625 10.78125 \r\nQ 42.28125 15.578125 42.28125 23.484375 \r\nQ 42.28125 31 38.0625 35.34375 \r\nQ 33.84375 39.703125 27 39.703125 \r\nQ 22.75 39.703125 19.328125 37.765625 \r\nQ 15.921875 35.84375 13.96875 32.765625 \r\nL 5.71875 33.84375 \r\nL 12.640625 70.609375 \r\nL 48.25 70.609375 \r\nL 48.25 62.203125 \r\nL 19.671875 62.203125 \r\nL 15.828125 42.96875 \r\nQ 22.265625 47.46875 29.34375 47.46875 \r\nQ 38.71875 47.46875 45.15625 40.96875 \r\nQ 51.609375 34.46875 51.609375 24.265625 \r\nQ 51.609375 14.546875 45.953125 7.46875 \r\nQ 39.0625 -1.21875 27.15625 -1.21875 \r\nQ 17.390625 -1.21875 11.203125 4.25 \r\nQ 5.03125 9.71875 4.15625 18.75 \r\nz\r\n\" id=\"ArialMT-53\"/>\r\n       </defs>\r\n       <use xlink:href=\"#ArialMT-48\"/>\r\n       <use x=\"55.615234\" xlink:href=\"#ArialMT-46\"/>\r\n       <use x=\"83.398438\" xlink:href=\"#ArialMT-53\"/>\r\n      </g>\r\n     </g>\r\n    </g>\r\n    <g id=\"xtick_3\">\r\n     <g id=\"line2d_3\">\r\n      <path clip-path=\"url(#pcc8e2c098b)\" d=\"M 126.360185 106.036364 \r\nL 126.360185 7.2 \r\n\" style=\"fill:none;stroke:#ffffff;stroke-linecap:round;\"/>\r\n     </g>\r\n     <g id=\"text_3\">\r\n      <!-- 1.0 -->\r\n      <g style=\"fill:#262626;\" transform=\"translate(118.715185 123.409957)scale(0.11 -0.11)\">\r\n       <defs>\r\n        <path d=\"M 37.25 0 \r\nL 28.46875 0 \r\nL 28.46875 56 \r\nQ 25.296875 52.984375 20.140625 49.953125 \r\nQ 14.984375 46.921875 10.890625 45.40625 \r\nL 10.890625 53.90625 \r\nQ 18.265625 57.375 23.78125 62.296875 \r\nQ 29.296875 67.234375 31.59375 71.875 \r\nL 37.25 71.875 \r\nz\r\n\" id=\"ArialMT-49\"/>\r\n       </defs>\r\n       <use xlink:href=\"#ArialMT-49\"/>\r\n       <use x=\"55.615234\" xlink:href=\"#ArialMT-46\"/>\r\n       <use x=\"83.398438\" xlink:href=\"#ArialMT-48\"/>\r\n      </g>\r\n     </g>\r\n    </g>\r\n    <g id=\"xtick_4\">\r\n     <g id=\"line2d_4\">\r\n      <path clip-path=\"url(#pcc8e2c098b)\" d=\"M 164.405639 106.036364 \r\nL 164.405639 7.2 \r\n\" style=\"fill:none;stroke:#ffffff;stroke-linecap:round;\"/>\r\n     </g>\r\n     <g id=\"text_4\">\r\n      <!-- 1.5 -->\r\n      <g style=\"fill:#262626;\" transform=\"translate(156.760639 123.409957)scale(0.11 -0.11)\">\r\n       <use xlink:href=\"#ArialMT-49\"/>\r\n       <use x=\"55.615234\" xlink:href=\"#ArialMT-46\"/>\r\n       <use x=\"83.398438\" xlink:href=\"#ArialMT-53\"/>\r\n      </g>\r\n     </g>\r\n    </g>\r\n    <g id=\"xtick_5\">\r\n     <g id=\"line2d_5\">\r\n      <path clip-path=\"url(#pcc8e2c098b)\" d=\"M 202.451094 106.036364 \r\nL 202.451094 7.2 \r\n\" style=\"fill:none;stroke:#ffffff;stroke-linecap:round;\"/>\r\n     </g>\r\n     <g id=\"text_5\">\r\n      <!-- 2.0 -->\r\n      <g style=\"fill:#262626;\" transform=\"translate(194.806094 123.409957)scale(0.11 -0.11)\">\r\n       <defs>\r\n        <path d=\"M 50.34375 8.453125 \r\nL 50.34375 0 \r\nL 3.03125 0 \r\nQ 2.9375 3.171875 4.046875 6.109375 \r\nQ 5.859375 10.9375 9.828125 15.625 \r\nQ 13.8125 20.3125 21.34375 26.46875 \r\nQ 33.015625 36.03125 37.109375 41.625 \r\nQ 41.21875 47.21875 41.21875 52.203125 \r\nQ 41.21875 57.421875 37.46875 61 \r\nQ 33.734375 64.59375 27.734375 64.59375 \r\nQ 21.390625 64.59375 17.578125 60.78125 \r\nQ 13.765625 56.984375 13.71875 50.25 \r\nL 4.6875 51.171875 \r\nQ 5.609375 61.28125 11.65625 66.578125 \r\nQ 17.71875 71.875 27.9375 71.875 \r\nQ 38.234375 71.875 44.234375 66.15625 \r\nQ 50.25 60.453125 50.25 52 \r\nQ 50.25 47.703125 48.484375 43.546875 \r\nQ 46.734375 39.40625 42.65625 34.8125 \r\nQ 38.578125 30.21875 29.109375 22.21875 \r\nQ 21.1875 15.578125 18.9375 13.203125 \r\nQ 16.703125 10.84375 15.234375 8.453125 \r\nz\r\n\" id=\"ArialMT-50\"/>\r\n       </defs>\r\n       <use xlink:href=\"#ArialMT-50\"/>\r\n       <use x=\"55.615234\" xlink:href=\"#ArialMT-46\"/>\r\n       <use x=\"83.398438\" xlink:href=\"#ArialMT-48\"/>\r\n      </g>\r\n     </g>\r\n    </g>\r\n    <g id=\"xtick_6\">\r\n     <g id=\"line2d_6\">\r\n      <path clip-path=\"url(#pcc8e2c098b)\" d=\"M 240.496548 106.036364 \r\nL 240.496548 7.2 \r\n\" style=\"fill:none;stroke:#ffffff;stroke-linecap:round;\"/>\r\n     </g>\r\n     <g id=\"text_6\">\r\n      <!-- 2.5 -->\r\n      <g style=\"fill:#262626;\" transform=\"translate(232.851548 123.409957)scale(0.11 -0.11)\">\r\n       <use xlink:href=\"#ArialMT-50\"/>\r\n       <use x=\"55.615234\" xlink:href=\"#ArialMT-46\"/>\r\n       <use x=\"83.398438\" xlink:href=\"#ArialMT-53\"/>\r\n      </g>\r\n     </g>\r\n    </g>\r\n    <g id=\"xtick_7\">\r\n     <g id=\"line2d_7\">\r\n      <path clip-path=\"url(#pcc8e2c098b)\" d=\"M 278.542003 106.036364 \r\nL 278.542003 7.2 \r\n\" style=\"fill:none;stroke:#ffffff;stroke-linecap:round;\"/>\r\n     </g>\r\n     <g id=\"text_7\">\r\n      <!-- 3.0 -->\r\n      <g style=\"fill:#262626;\" transform=\"translate(270.897003 123.409957)scale(0.11 -0.11)\">\r\n       <defs>\r\n        <path d=\"M 4.203125 18.890625 \r\nL 12.984375 20.0625 \r\nQ 14.5 12.59375 18.140625 9.296875 \r\nQ 21.78125 6 27 6 \r\nQ 33.203125 6 37.46875 10.296875 \r\nQ 41.75 14.59375 41.75 20.953125 \r\nQ 41.75 27 37.796875 30.921875 \r\nQ 33.84375 34.859375 27.734375 34.859375 \r\nQ 25.25 34.859375 21.53125 33.890625 \r\nL 22.515625 41.609375 \r\nQ 23.390625 41.5 23.921875 41.5 \r\nQ 29.546875 41.5 34.03125 44.421875 \r\nQ 38.53125 47.359375 38.53125 53.46875 \r\nQ 38.53125 58.296875 35.25 61.46875 \r\nQ 31.984375 64.65625 26.8125 64.65625 \r\nQ 21.6875 64.65625 18.265625 61.421875 \r\nQ 14.84375 58.203125 13.875 51.765625 \r\nL 5.078125 53.328125 \r\nQ 6.6875 62.15625 12.390625 67.015625 \r\nQ 18.109375 71.875 26.609375 71.875 \r\nQ 32.46875 71.875 37.390625 69.359375 \r\nQ 42.328125 66.84375 44.9375 62.5 \r\nQ 47.5625 58.15625 47.5625 53.265625 \r\nQ 47.5625 48.640625 45.0625 44.828125 \r\nQ 42.578125 41.015625 37.703125 38.765625 \r\nQ 44.046875 37.3125 47.5625 32.6875 \r\nQ 51.078125 28.078125 51.078125 21.140625 \r\nQ 51.078125 11.765625 44.234375 5.25 \r\nQ 37.40625 -1.265625 26.953125 -1.265625 \r\nQ 17.53125 -1.265625 11.296875 4.34375 \r\nQ 5.078125 9.96875 4.203125 18.890625 \r\nz\r\n\" id=\"ArialMT-51\"/>\r\n       </defs>\r\n       <use xlink:href=\"#ArialMT-51\"/>\r\n       <use x=\"55.615234\" xlink:href=\"#ArialMT-46\"/>\r\n       <use x=\"83.398438\" xlink:href=\"#ArialMT-48\"/>\r\n      </g>\r\n     </g>\r\n    </g>\r\n    <g id=\"xtick_8\">\r\n     <g id=\"line2d_8\">\r\n      <path clip-path=\"url(#pcc8e2c098b)\" d=\"M 316.587457 106.036364 \r\nL 316.587457 7.2 \r\n\" style=\"fill:none;stroke:#ffffff;stroke-linecap:round;\"/>\r\n     </g>\r\n     <g id=\"text_8\">\r\n      <!-- 3.5 -->\r\n      <g style=\"fill:#262626;\" transform=\"translate(308.942457 123.409957)scale(0.11 -0.11)\">\r\n       <use xlink:href=\"#ArialMT-51\"/>\r\n       <use x=\"55.615234\" xlink:href=\"#ArialMT-46\"/>\r\n       <use x=\"83.398438\" xlink:href=\"#ArialMT-53\"/>\r\n      </g>\r\n     </g>\r\n    </g>\r\n    <g id=\"xtick_9\">\r\n     <g id=\"line2d_9\">\r\n      <path clip-path=\"url(#pcc8e2c098b)\" d=\"M 354.632912 106.036364 \r\nL 354.632912 7.2 \r\n\" style=\"fill:none;stroke:#ffffff;stroke-linecap:round;\"/>\r\n     </g>\r\n     <g id=\"text_9\">\r\n      <!-- 4.0 -->\r\n      <g style=\"fill:#262626;\" transform=\"translate(346.987912 123.409957)scale(0.11 -0.11)\">\r\n       <defs>\r\n        <path d=\"M 32.328125 0 \r\nL 32.328125 17.140625 \r\nL 1.265625 17.140625 \r\nL 1.265625 25.203125 \r\nL 33.9375 71.578125 \r\nL 41.109375 71.578125 \r\nL 41.109375 25.203125 \r\nL 50.78125 25.203125 \r\nL 50.78125 17.140625 \r\nL 41.109375 17.140625 \r\nL 41.109375 0 \r\nz\r\nM 32.328125 25.203125 \r\nL 32.328125 57.46875 \r\nL 9.90625 25.203125 \r\nz\r\n\" id=\"ArialMT-52\"/>\r\n       </defs>\r\n       <use xlink:href=\"#ArialMT-52\"/>\r\n       <use x=\"55.615234\" xlink:href=\"#ArialMT-46\"/>\r\n       <use x=\"83.398438\" xlink:href=\"#ArialMT-48\"/>\r\n      </g>\r\n     </g>\r\n    </g>\r\n   </g>\r\n   <g id=\"matplotlib.axis_2\">\r\n    <g id=\"ytick_1\">\r\n     <g id=\"line2d_10\">\r\n      <path clip-path=\"url(#pcc8e2c098b)\" d=\"M 35.051094 70.788462 \r\nL 369.851094 70.788462 \r\n\" style=\"fill:none;stroke:#ffffff;stroke-linecap:round;\"/>\r\n     </g>\r\n     <g id=\"text_10\">\r\n      <!-- 200 -->\r\n      <g style=\"fill:#262626;\" transform=\"translate(7.2 74.725259)scale(0.11 -0.11)\">\r\n       <use xlink:href=\"#ArialMT-50\"/>\r\n       <use x=\"55.615234\" xlink:href=\"#ArialMT-48\"/>\r\n       <use x=\"111.230469\" xlink:href=\"#ArialMT-48\"/>\r\n      </g>\r\n     </g>\r\n    </g>\r\n    <g id=\"ytick_2\">\r\n     <g id=\"line2d_11\">\r\n      <path clip-path=\"url(#pcc8e2c098b)\" d=\"M 35.051094 29.485754 \r\nL 369.851094 29.485754 \r\n\" style=\"fill:none;stroke:#ffffff;stroke-linecap:round;\"/>\r\n     </g>\r\n     <g id=\"text_11\">\r\n      <!-- 300 -->\r\n      <g style=\"fill:#262626;\" transform=\"translate(7.2 33.422551)scale(0.11 -0.11)\">\r\n       <use xlink:href=\"#ArialMT-51\"/>\r\n       <use x=\"55.615234\" xlink:href=\"#ArialMT-48\"/>\r\n       <use x=\"111.230469\" xlink:href=\"#ArialMT-48\"/>\r\n      </g>\r\n     </g>\r\n    </g>\r\n   </g>\r\n   <g id=\"line2d_12\">\r\n    <path clip-path=\"url(#pcc8e2c098b)\" d=\"M 50.269276 101.543802 \r\nL 126.360185 101.271001 \r\nL 202.451094 96.553408 \r\nL 278.542003 76.420067 \r\nL 354.632912 11.692562 \r\n\" style=\"fill:none;stroke:#4c72b0;stroke-linecap:round;stroke-width:1.5;\"/>\r\n   </g>\r\n   <g id=\"patch_3\">\r\n    <path d=\"M 35.051094 106.036364 \r\nL 35.051094 7.2 \r\n\" style=\"fill:none;stroke:#ffffff;stroke-linecap:square;stroke-linejoin:miter;stroke-width:1.25;\"/>\r\n   </g>\r\n   <g id=\"patch_4\">\r\n    <path d=\"M 369.851094 106.036364 \r\nL 369.851094 7.2 \r\n\" style=\"fill:none;stroke:#ffffff;stroke-linecap:square;stroke-linejoin:miter;stroke-width:1.25;\"/>\r\n   </g>\r\n   <g id=\"patch_5\">\r\n    <path d=\"M 35.051094 106.036364 \r\nL 369.851094 106.036364 \r\n\" style=\"fill:none;stroke:#ffffff;stroke-linecap:square;stroke-linejoin:miter;stroke-width:1.25;\"/>\r\n   </g>\r\n   <g id=\"patch_6\">\r\n    <path d=\"M 35.051094 7.2 \r\nL 369.851094 7.2 \r\n\" style=\"fill:none;stroke:#ffffff;stroke-linecap:square;stroke-linejoin:miter;stroke-width:1.25;\"/>\r\n   </g>\r\n  </g>\r\n  <g id=\"axes_2\">\r\n   <g id=\"patch_7\">\r\n    <path d=\"M 35.051094 224.64 \r\nL 369.851094 224.64 \r\nL 369.851094 125.803636 \r\nL 35.051094 125.803636 \r\nz\r\n\" style=\"fill:#eaeaf2;\"/>\r\n   </g>\r\n   <g id=\"matplotlib.axis_3\">\r\n    <g id=\"xtick_10\">\r\n     <g id=\"line2d_13\">\r\n      <path clip-path=\"url(#p3948bea1d7)\" d=\"M 50.269276 224.64 \r\nL 50.269276 125.803636 \r\n\" style=\"fill:none;stroke:#ffffff;stroke-linecap:round;\"/>\r\n     </g>\r\n     <g id=\"text_12\">\r\n      <!-- 0.0 -->\r\n      <g style=\"fill:#262626;\" transform=\"translate(42.624276 242.013594)scale(0.11 -0.11)\">\r\n       <use xlink:href=\"#ArialMT-48\"/>\r\n       <use x=\"55.615234\" xlink:href=\"#ArialMT-46\"/>\r\n       <use x=\"83.398438\" xlink:href=\"#ArialMT-48\"/>\r\n      </g>\r\n     </g>\r\n    </g>\r\n    <g id=\"xtick_11\">\r\n     <g id=\"line2d_14\">\r\n      <path clip-path=\"url(#p3948bea1d7)\" d=\"M 88.31473 224.64 \r\nL 88.31473 125.803636 \r\n\" style=\"fill:none;stroke:#ffffff;stroke-linecap:round;\"/>\r\n     </g>\r\n     <g id=\"text_13\">\r\n      <!-- 0.5 -->\r\n      <g style=\"fill:#262626;\" transform=\"translate(80.66973 242.013594)scale(0.11 -0.11)\">\r\n       <use xlink:href=\"#ArialMT-48\"/>\r\n       <use x=\"55.615234\" xlink:href=\"#ArialMT-46\"/>\r\n       <use x=\"83.398438\" xlink:href=\"#ArialMT-53\"/>\r\n      </g>\r\n     </g>\r\n    </g>\r\n    <g id=\"xtick_12\">\r\n     <g id=\"line2d_15\">\r\n      <path clip-path=\"url(#p3948bea1d7)\" d=\"M 126.360185 224.64 \r\nL 126.360185 125.803636 \r\n\" style=\"fill:none;stroke:#ffffff;stroke-linecap:round;\"/>\r\n     </g>\r\n     <g id=\"text_14\">\r\n      <!-- 1.0 -->\r\n      <g style=\"fill:#262626;\" transform=\"translate(118.715185 242.013594)scale(0.11 -0.11)\">\r\n       <use xlink:href=\"#ArialMT-49\"/>\r\n       <use x=\"55.615234\" xlink:href=\"#ArialMT-46\"/>\r\n       <use x=\"83.398438\" xlink:href=\"#ArialMT-48\"/>\r\n      </g>\r\n     </g>\r\n    </g>\r\n    <g id=\"xtick_13\">\r\n     <g id=\"line2d_16\">\r\n      <path clip-path=\"url(#p3948bea1d7)\" d=\"M 164.405639 224.64 \r\nL 164.405639 125.803636 \r\n\" style=\"fill:none;stroke:#ffffff;stroke-linecap:round;\"/>\r\n     </g>\r\n     <g id=\"text_15\">\r\n      <!-- 1.5 -->\r\n      <g style=\"fill:#262626;\" transform=\"translate(156.760639 242.013594)scale(0.11 -0.11)\">\r\n       <use xlink:href=\"#ArialMT-49\"/>\r\n       <use x=\"55.615234\" xlink:href=\"#ArialMT-46\"/>\r\n       <use x=\"83.398438\" xlink:href=\"#ArialMT-53\"/>\r\n      </g>\r\n     </g>\r\n    </g>\r\n    <g id=\"xtick_14\">\r\n     <g id=\"line2d_17\">\r\n      <path clip-path=\"url(#p3948bea1d7)\" d=\"M 202.451094 224.64 \r\nL 202.451094 125.803636 \r\n\" style=\"fill:none;stroke:#ffffff;stroke-linecap:round;\"/>\r\n     </g>\r\n     <g id=\"text_16\">\r\n      <!-- 2.0 -->\r\n      <g style=\"fill:#262626;\" transform=\"translate(194.806094 242.013594)scale(0.11 -0.11)\">\r\n       <use xlink:href=\"#ArialMT-50\"/>\r\n       <use x=\"55.615234\" xlink:href=\"#ArialMT-46\"/>\r\n       <use x=\"83.398438\" xlink:href=\"#ArialMT-48\"/>\r\n      </g>\r\n     </g>\r\n    </g>\r\n    <g id=\"xtick_15\">\r\n     <g id=\"line2d_18\">\r\n      <path clip-path=\"url(#p3948bea1d7)\" d=\"M 240.496548 224.64 \r\nL 240.496548 125.803636 \r\n\" style=\"fill:none;stroke:#ffffff;stroke-linecap:round;\"/>\r\n     </g>\r\n     <g id=\"text_17\">\r\n      <!-- 2.5 -->\r\n      <g style=\"fill:#262626;\" transform=\"translate(232.851548 242.013594)scale(0.11 -0.11)\">\r\n       <use xlink:href=\"#ArialMT-50\"/>\r\n       <use x=\"55.615234\" xlink:href=\"#ArialMT-46\"/>\r\n       <use x=\"83.398438\" xlink:href=\"#ArialMT-53\"/>\r\n      </g>\r\n     </g>\r\n    </g>\r\n    <g id=\"xtick_16\">\r\n     <g id=\"line2d_19\">\r\n      <path clip-path=\"url(#p3948bea1d7)\" d=\"M 278.542003 224.64 \r\nL 278.542003 125.803636 \r\n\" style=\"fill:none;stroke:#ffffff;stroke-linecap:round;\"/>\r\n     </g>\r\n     <g id=\"text_18\">\r\n      <!-- 3.0 -->\r\n      <g style=\"fill:#262626;\" transform=\"translate(270.897003 242.013594)scale(0.11 -0.11)\">\r\n       <use xlink:href=\"#ArialMT-51\"/>\r\n       <use x=\"55.615234\" xlink:href=\"#ArialMT-46\"/>\r\n       <use x=\"83.398438\" xlink:href=\"#ArialMT-48\"/>\r\n      </g>\r\n     </g>\r\n    </g>\r\n    <g id=\"xtick_17\">\r\n     <g id=\"line2d_20\">\r\n      <path clip-path=\"url(#p3948bea1d7)\" d=\"M 316.587457 224.64 \r\nL 316.587457 125.803636 \r\n\" style=\"fill:none;stroke:#ffffff;stroke-linecap:round;\"/>\r\n     </g>\r\n     <g id=\"text_19\">\r\n      <!-- 3.5 -->\r\n      <g style=\"fill:#262626;\" transform=\"translate(308.942457 242.013594)scale(0.11 -0.11)\">\r\n       <use xlink:href=\"#ArialMT-51\"/>\r\n       <use x=\"55.615234\" xlink:href=\"#ArialMT-46\"/>\r\n       <use x=\"83.398438\" xlink:href=\"#ArialMT-53\"/>\r\n      </g>\r\n     </g>\r\n    </g>\r\n    <g id=\"xtick_18\">\r\n     <g id=\"line2d_21\">\r\n      <path clip-path=\"url(#p3948bea1d7)\" d=\"M 354.632912 224.64 \r\nL 354.632912 125.803636 \r\n\" style=\"fill:none;stroke:#ffffff;stroke-linecap:round;\"/>\r\n     </g>\r\n     <g id=\"text_20\">\r\n      <!-- 4.0 -->\r\n      <g style=\"fill:#262626;\" transform=\"translate(346.987912 242.013594)scale(0.11 -0.11)\">\r\n       <use xlink:href=\"#ArialMT-52\"/>\r\n       <use x=\"55.615234\" xlink:href=\"#ArialMT-46\"/>\r\n       <use x=\"83.398438\" xlink:href=\"#ArialMT-48\"/>\r\n      </g>\r\n     </g>\r\n    </g>\r\n   </g>\r\n   <g id=\"matplotlib.axis_4\">\r\n    <g id=\"ytick_3\">\r\n     <g id=\"line2d_22\">\r\n      <path clip-path=\"url(#p3948bea1d7)\" d=\"M 35.051094 189.392098 \r\nL 369.851094 189.392098 \r\n\" style=\"fill:none;stroke:#ffffff;stroke-linecap:round;\"/>\r\n     </g>\r\n     <g id=\"text_21\">\r\n      <!-- 200 -->\r\n      <g style=\"fill:#262626;\" transform=\"translate(7.2 193.328895)scale(0.11 -0.11)\">\r\n       <use xlink:href=\"#ArialMT-50\"/>\r\n       <use x=\"55.615234\" xlink:href=\"#ArialMT-48\"/>\r\n       <use x=\"111.230469\" xlink:href=\"#ArialMT-48\"/>\r\n      </g>\r\n     </g>\r\n    </g>\r\n    <g id=\"ytick_4\">\r\n     <g id=\"line2d_23\">\r\n      <path clip-path=\"url(#p3948bea1d7)\" d=\"M 35.051094 148.08939 \r\nL 369.851094 148.08939 \r\n\" style=\"fill:none;stroke:#ffffff;stroke-linecap:round;\"/>\r\n     </g>\r\n     <g id=\"text_22\">\r\n      <!-- 300 -->\r\n      <g style=\"fill:#262626;\" transform=\"translate(7.2 152.026187)scale(0.11 -0.11)\">\r\n       <use xlink:href=\"#ArialMT-51\"/>\r\n       <use x=\"55.615234\" xlink:href=\"#ArialMT-48\"/>\r\n       <use x=\"111.230469\" xlink:href=\"#ArialMT-48\"/>\r\n      </g>\r\n     </g>\r\n    </g>\r\n   </g>\r\n   <g id=\"line2d_24\">\r\n    <path clip-path=\"url(#p3948bea1d7)\" d=\"M 50.269276 130.296198 \r\nL 126.360185 195.023704 \r\nL 202.451094 215.157045 \r\nL 278.542003 219.874638 \r\nL 354.632912 220.147438 \r\n\" style=\"fill:none;stroke:#4c72b0;stroke-linecap:round;stroke-width:1.5;\"/>\r\n   </g>\r\n   <g id=\"patch_8\">\r\n    <path d=\"M 35.051094 224.64 \r\nL 35.051094 125.803636 \r\n\" style=\"fill:none;stroke:#ffffff;stroke-linecap:square;stroke-linejoin:miter;stroke-width:1.25;\"/>\r\n   </g>\r\n   <g id=\"patch_9\">\r\n    <path d=\"M 369.851094 224.64 \r\nL 369.851094 125.803636 \r\n\" style=\"fill:none;stroke:#ffffff;stroke-linecap:square;stroke-linejoin:miter;stroke-width:1.25;\"/>\r\n   </g>\r\n   <g id=\"patch_10\">\r\n    <path d=\"M 35.051094 224.64 \r\nL 369.851094 224.64 \r\n\" style=\"fill:none;stroke:#ffffff;stroke-linecap:square;stroke-linejoin:miter;stroke-width:1.25;\"/>\r\n   </g>\r\n   <g id=\"patch_11\">\r\n    <path d=\"M 35.051094 125.803636 \r\nL 369.851094 125.803636 \r\n\" style=\"fill:none;stroke:#ffffff;stroke-linecap:square;stroke-linejoin:miter;stroke-width:1.25;\"/>\r\n   </g>\r\n  </g>\r\n </g>\r\n <defs>\r\n  <clipPath id=\"pcc8e2c098b\">\r\n   <rect height=\"98.836364\" width=\"334.8\" x=\"35.051094\" y=\"7.2\"/>\r\n  </clipPath>\r\n  <clipPath id=\"p3948bea1d7\">\r\n   <rect height=\"98.836364\" width=\"334.8\" x=\"35.051094\" y=\"125.803636\"/>\r\n  </clipPath>\r\n </defs>\r\n</svg>\r\n",
      "image/png": "[encoded data removed]"
     },
     "metadata": {}
    },
    {
     "output_type": "stream",
     "name": "stdout",
     "text": [
      "1696.206060595233\n"
     ]
    },
    {
     "output_type": "error",
     "ename": "ValueError",
     "evalue": "shapes (4794,0) and (1,4092) not aligned: 0 (dim 1) != 1 (dim 0)",
     "traceback": [
      "\u001b[1;31m---------------------------------------------------------------------------\u001b[0m",
      "\u001b[1;31mValueError\u001b[0m                                Traceback (most recent call last)",
      "\u001b[1;32m<ipython-input-135-5f14feeef564>\u001b[0m in \u001b[0;36m<module>\u001b[1;34m\u001b[0m\n\u001b[1;32m----> 1\u001b[1;33m \u001b[0mnpSVD\u001b[0m\u001b[1;33m(\u001b[0m\u001b[1;36m5\u001b[0m\u001b[1;33m)\u001b[0m\u001b[1;33m\u001b[0m\u001b[1;33m\u001b[0m\u001b[0m\n\u001b[0m",
      "\u001b[1;32m<ipython-input-134-f1d5b9eac068>\u001b[0m in \u001b[0;36mnpSVD\u001b[1;34m(k)\u001b[0m\n\u001b[0;32m     18\u001b[0m     \u001b[0mreconstruction_error\u001b[0m \u001b[1;33m=\u001b[0m \u001b[1;33m[\u001b[0m\u001b[1;33m]\u001b[0m\u001b[1;33m\u001b[0m\u001b[1;33m\u001b[0m\u001b[0m\n\u001b[0;32m     19\u001b[0m     \u001b[1;32mfor\u001b[0m \u001b[0mK\u001b[0m \u001b[1;32min\u001b[0m \u001b[0mrange\u001b[0m\u001b[1;33m(\u001b[0m\u001b[0mk\u001b[0m\u001b[1;33m,\u001b[0m\u001b[1;36m0\u001b[0m\u001b[1;33m,\u001b[0m\u001b[1;33m-\u001b[0m\u001b[1;36m1\u001b[0m\u001b[1;33m)\u001b[0m\u001b[1;33m:\u001b[0m\u001b[1;33m\u001b[0m\u001b[1;33m\u001b[0m\u001b[0m\n\u001b[1;32m---> 20\u001b[1;33m         \u001b[0mdata_k\u001b[0m \u001b[1;33m=\u001b[0m \u001b[0mU\u001b[0m\u001b[1;33m[\u001b[0m\u001b[1;33m:\u001b[0m\u001b[1;33m,\u001b[0m\u001b[0mK\u001b[0m\u001b[1;33m:\u001b[0m\u001b[1;33m]\u001b[0m\u001b[1;33m.\u001b[0m\u001b[0mdot\u001b[0m\u001b[1;33m(\u001b[0m\u001b[0mS\u001b[0m\u001b[1;33m[\u001b[0m\u001b[0mK\u001b[0m\u001b[1;33m:\u001b[0m\u001b[1;33m,\u001b[0m\u001b[0mk\u001b[0m\u001b[1;33m:\u001b[0m\u001b[1;33m]\u001b[0m\u001b[1;33m)\u001b[0m\u001b[1;33m.\u001b[0m\u001b[0mdot\u001b[0m\u001b[1;33m(\u001b[0m\u001b[0mV\u001b[0m\u001b[1;33m[\u001b[0m\u001b[0mK\u001b[0m\u001b[1;33m:\u001b[0m\u001b[1;33m,\u001b[0m\u001b[1;33m:\u001b[0m\u001b[1;33m]\u001b[0m\u001b[1;33m)\u001b[0m\u001b[1;33m\u001b[0m\u001b[1;33m\u001b[0m\u001b[0m\n\u001b[0m\u001b[0;32m     21\u001b[0m         \u001b[0merror\u001b[0m \u001b[1;33m=\u001b[0m \u001b[0mnp\u001b[0m\u001b[1;33m.\u001b[0m\u001b[0mlinalg\u001b[0m\u001b[1;33m.\u001b[0m\u001b[0mnorm\u001b[0m\u001b[1;33m(\u001b[0m\u001b[0mdata_k\u001b[0m\u001b[1;33m-\u001b[0m\u001b[0msparseRatings\u001b[0m\u001b[1;33m,\u001b[0m\u001b[0mord\u001b[0m\u001b[1;33m=\u001b[0m\u001b[1;34m'fro'\u001b[0m\u001b[1;33m)\u001b[0m\u001b[1;33m\u001b[0m\u001b[1;33m\u001b[0m\u001b[0m\n\u001b[0;32m     22\u001b[0m         \u001b[0mreconstruction_error\u001b[0m\u001b[1;33m.\u001b[0m\u001b[0mappend\u001b[0m\u001b[1;33m(\u001b[0m\u001b[0merror\u001b[0m\u001b[1;33m)\u001b[0m\u001b[1;33m\u001b[0m\u001b[1;33m\u001b[0m\u001b[0m\n",
      "\u001b[1;31mValueError\u001b[0m: shapes (4794,0) and (1,4092) not aligned: 0 (dim 1) != 1 (dim 0)"
     ]
    }
   ],
   "source": [
    "npSVD(5)"
   ]
  },
  {
   "source": [
    "S = np.diag(s)\n",
    "print(S)"
   ],
   "cell_type": "markdown",
   "metadata": {}
  },
  {
   "source": [
    "reconstruction_error = []\n",
    "for k in range(kth,0,-1):\n",
    "    data_k = U[:,k:].dot(S[k:,k:]).dot(V[k:,:])\n",
    "    error = np.linalg.norm(data_k-R,ord='fro')\n",
    "    reconstruction_error.append(error)\n",
    "    print(error)\n",
    "data_k = U.dot(S_k).dot(V)"
   ],
   "cell_type": "markdown",
   "metadata": {}
  },
  {
   "cell_type": "code",
   "execution_count": null,
   "metadata": {},
   "outputs": [],
   "source": []
  },
  {
   "source": [
    "Result evaluation"
   ],
   "cell_type": "markdown",
   "metadata": {}
  },
  {
   "cell_type": "code",
   "execution_count": 71,
   "metadata": {},
   "outputs": [],
   "source": [
    "def RMSE():\n",
    "    UCF_ks = [1,5,10,20,50,100,200,500,1000]\n",
    "    ICF_ks = [1,5,10,20,40,50,60,70,80,100]\n",
    "    SVD_ks = [1,5,10,20,30,40,50,75,100]\n",
    "    removed_ratings = removed[:,2]\n",
    "    #print(removed_ratings)\n",
    "    UCF_RMSE = []\n",
    "    USER_average_UCF=[]\n",
    "    B_average_UCF = []\n",
    "    USER_average_ICF=[]\n",
    "    B_average_ICF = []\n",
    "    ICF_RMSE = []\n",
    "    for k in UCF_ks:\n",
    "        RMSE= np.sqrt(np.sum(np.square(removed_ratings-(UCF(k))[:,2]))/fivePercent)\n",
    "        UCF_RMSE.append([k,RMSE])\n",
    "        \n",
    "        \n",
    "    for k in ICF_ks:\n",
    "        RMSE = np.sqrt(np.sum(np.square(removed_ratings-(UCF(k))[:,2]))/fivePercent)\n",
    "        ICF_RMSE.append([k,RMSE])"
   ]
  },
  {
   "cell_type": "code",
   "execution_count": 72,
   "metadata": {},
   "outputs": [],
   "source": [
    "RMSE()"
   ]
  },
  {
   "cell_type": "code",
   "execution_count": null,
   "metadata": {},
   "outputs": [],
   "source": []
  }
 ]
}